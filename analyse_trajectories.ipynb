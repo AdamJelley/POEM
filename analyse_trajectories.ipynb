{
 "cells": [
  {
   "cell_type": "code",
   "execution_count": 1,
   "metadata": {},
   "outputs": [],
   "source": [
    "%load_ext autoreload\n",
    "%autoreload 2"
   ]
  },
  {
   "cell_type": "code",
   "execution_count": 2,
   "metadata": {},
   "outputs": [],
   "source": [
    "import pickle\n",
    "import math\n",
    "import numpy as np\n",
    "import torch as T\n",
    "import matplotlib.pyplot as plt"
   ]
  },
  {
   "cell_type": "code",
   "execution_count": null,
   "metadata": {},
   "outputs": [],
   "source": [
    "dataset_path = \"datasets/MiniGrid-SimpleCrossingS11N5-v0-CrossingS11N5_A2C_Fullgrid-10.pickle\""
   ]
  },
  {
   "cell_type": "code",
   "execution_count": null,
   "metadata": {},
   "outputs": [],
   "source": [
    "with open(dataset_path, 'rb') as handle:\n",
    "    data = pickle.load(handle)"
   ]
  },
  {
   "cell_type": "code",
   "execution_count": null,
   "metadata": {},
   "outputs": [],
   "source": [
    "data[9][3]['obs'].keys()"
   ]
  },
  {
   "cell_type": "code",
   "execution_count": null,
   "metadata": {},
   "outputs": [],
   "source": [
    "data[0].keys()"
   ]
  },
  {
   "cell_type": "code",
   "execution_count": null,
   "metadata": {},
   "outputs": [],
   "source": [
    "print([data[0][i]['action'] for i in range(len(data[0]))])"
   ]
  },
  {
   "cell_type": "code",
   "execution_count": null,
   "metadata": {},
   "outputs": [],
   "source": [
    "data[0][11]['direction']"
   ]
  },
  {
   "cell_type": "code",
   "execution_count": null,
   "metadata": {},
   "outputs": [],
   "source": [
    "data[0][12]['direction']"
   ]
  },
  {
   "cell_type": "code",
   "execution_count": null,
   "metadata": {},
   "outputs": [],
   "source": [
    "np.allclose(data[0][11]['obs']['partial_image'], data[0][12]['obs']['partial_image'])"
   ]
  },
  {
   "cell_type": "code",
   "execution_count": null,
   "metadata": {},
   "outputs": [],
   "source": [
    "data[0][11]['obs']['image'][:,:,0]"
   ]
  },
  {
   "cell_type": "code",
   "execution_count": null,
   "metadata": {},
   "outputs": [],
   "source": [
    " data[0][12]['obs']['image'][:,:,0]"
   ]
  },
  {
   "cell_type": "code",
   "execution_count": null,
   "metadata": {},
   "outputs": [],
   "source": [
    " data[0][12]['location']"
   ]
  },
  {
   "cell_type": "code",
   "execution_count": null,
   "metadata": {},
   "outputs": [],
   "source": [
    "T.Tensor([data[episode][step]['direction'] for episode in range(len(data)) for step in range(len(data[episode]))]).shape"
   ]
  },
  {
   "cell_type": "code",
   "execution_count": null,
   "metadata": {},
   "outputs": [],
   "source": [
    "support_trajectories = T.Tensor(np.array([data[episode][step]['obs']['partial_pixels'] for episode in range(len(data)) for step in range(len(data[episode]))]))\n",
    "support_targets = T.tensor(np.array([episode for episode in range(len(data)) for step in range(len(data[episode]))]))"
   ]
  },
  {
   "cell_type": "code",
   "execution_count": null,
   "metadata": {},
   "outputs": [],
   "source": [
    "for target in support_targets.unique():\n",
    "    trajectory=support_trajectories[support_targets==target]\n",
    "    print(trajectory.shape)"
   ]
  },
  {
   "cell_type": "code",
   "execution_count": null,
   "metadata": {},
   "outputs": [],
   "source": [
    "from generative_contrastive_modelling.gcm_encoder import GCMEncoder\n",
    "from generative_contrastive_modelling.gcm import GenerativeContrastiveModelling\n",
    "\n",
    "GCM = GenerativeContrastiveModelling(support_trajectories.shape, 64, 64)\n",
    "gcm_encoder = GCMEncoder(support_trajectories.shape, 64, 64)"
   ]
  },
  {
   "cell_type": "code",
   "execution_count": null,
   "metadata": {},
   "outputs": [],
   "source": [
    "gcm_encoder.forward(support_trajectories)"
   ]
  },
  {
   "cell_type": "code",
   "execution_count": null,
   "metadata": {},
   "outputs": [],
   "source": [
    "from generative_contrastive_modelling.proto_encoder import ProtoEncoder\n",
    "from generative_contrastive_modelling.protonet import PrototypicalNetwork\n",
    "\n",
    "proto_encoder = ProtoEncoder(support_trajectories.shape, 64, 64)\n",
    "protonet = PrototypicalNetwork(support_trajectories.shape, 64, 64)"
   ]
  },
  {
   "cell_type": "code",
   "execution_count": null,
   "metadata": {},
   "outputs": [],
   "source": [
    "proto_encoder.forward(support_trajectories)"
   ]
  },
  {
   "cell_type": "code",
   "execution_count": null,
   "metadata": {},
   "outputs": [],
   "source": [
    "indices = T.randperm(support_trajectories.shape[0])[:5]\n",
    "query_observations = support_trajectories[indices]\n",
    "query_targets = support_targets[indices]"
   ]
  },
  {
   "cell_type": "code",
   "execution_count": null,
   "metadata": {},
   "outputs": [],
   "source": [
    "query_targets"
   ]
  },
  {
   "cell_type": "code",
   "execution_count": null,
   "metadata": {},
   "outputs": [],
   "source": [
    "observations=T.cat([support_trajectories, query_observations], dim=0)"
   ]
  },
  {
   "cell_type": "code",
   "execution_count": null,
   "metadata": {},
   "outputs": [],
   "source": [
    "GCM.compute_loss(support_trajectories=support_trajectories, support_targets=support_targets, query_observations=query_observations, query_targets=query_targets)"
   ]
  },
  {
   "cell_type": "code",
   "execution_count": null,
   "metadata": {},
   "outputs": [],
   "source": [
    "protonet.compute_loss(support_trajectories=support_trajectories, support_targets=support_targets, query_observations=query_observations, query_targets=query_targets)"
   ]
  },
  {
   "cell_type": "code",
   "execution_count": null,
   "metadata": {},
   "outputs": [],
   "source": [
    "support_targets.squeeze_(0).shape"
   ]
  },
  {
   "cell_type": "code",
   "execution_count": null,
   "metadata": {},
   "outputs": [],
   "source": [
    "support_targets.shape"
   ]
  },
  {
   "cell_type": "code",
   "execution_count": null,
   "metadata": {},
   "outputs": [],
   "source": [
    "data[0][11]['obs']['partial_pixels'].shape"
   ]
  },
  {
   "cell_type": "code",
   "execution_count": null,
   "metadata": {},
   "outputs": [],
   "source": [
    "plt.imshow(data[0][11]['obs']['partial_pixels'].transpose(1,2,0))"
   ]
  },
  {
   "cell_type": "code",
   "execution_count": null,
   "metadata": {},
   "outputs": [],
   "source": [
    "for i in range(len(data[0])):\n",
    "    plt.imshow(data[0][i]['obs']['partial_pixels'].transpose(1,2,0))\n",
    "    plt.show()"
   ]
  },
  {
   "cell_type": "code",
   "execution_count": null,
   "metadata": {},
   "outputs": [],
   "source": [
    "import torch.nn.functional as F\n",
    "plt.imshow(F.interpolate(T.Tensor(data[0][11]['obs']['pixels'].transpose(2,1,0)), size=(11,11))/255.0)"
   ]
  },
  {
   "cell_type": "code",
   "execution_count": null,
   "metadata": {},
   "outputs": [],
   "source": [
    "data[0][11]['obs']['partial_pixels'].transpose(2,1,0).shape"
   ]
  },
  {
   "cell_type": "code",
   "execution_count": null,
   "metadata": {},
   "outputs": [],
   "source": [
    "from generate_trajectories import generate_data"
   ]
  },
  {
   "cell_type": "code",
   "execution_count": null,
   "metadata": {},
   "outputs": [],
   "source": [
    "import minigrid_rl_starter.utils as utils\n",
    "# Load environment\n",
    "\n",
    "env = utils.make_env(\"MiniGrid-SimpleCrossingS11N5-v0\", 0)\n",
    "for _ in range(0):\n",
    "    env.reset()\n",
    "env_copy = utils.make_env(\"MiniGrid-SimpleCrossingS11N5-v0\", 0)\n",
    "for _ in range(0):\n",
    "    env_copy.reset()\n",
    "print(\"Environment loaded\\n\")\n",
    "\n",
    "# Load agent\n",
    "\n",
    "trained_model_dir = utils.get_model_dir(\"CrossingS11N5_A2C_Fullgrid\", storage_dir=\"minigrid_rl_starter\")\n",
    "exploratory_model_dir = utils.get_model_dir(\"CrossingS11N5_A2C_state_bonus_fullgrid\", storage_dir=\"minigrid_rl_starter\")\n",
    "\n",
    "trained_agent = utils.Agent(\n",
    "    env.observation_space,\n",
    "    env.action_space,\n",
    "    trained_model_dir,\n",
    "    argmax=True,\n",
    "    use_memory=False,\n",
    "    use_text=False,\n",
    ")\n",
    "print(\"Trained agent loaded\\n\")\n",
    "\n",
    "exploratory_agent = utils.Agent(\n",
    "    env.observation_space,\n",
    "    env.action_space,\n",
    "    exploratory_model_dir,\n",
    "    argmax=True,\n",
    "    use_memory=False,\n",
    "    use_text=False,\n",
    ")\n",
    "print(\"Exploratory agent loaded\\n\")"
   ]
  },
  {
   "cell_type": "code",
   "execution_count": null,
   "metadata": {},
   "outputs": [],
   "source": [
    "train_dataset = generate_data(env=env, agent=trained_agent, episodes=5, render=False)"
   ]
  },
  {
   "cell_type": "code",
   "execution_count": null,
   "metadata": {},
   "outputs": [],
   "source": [
    "query_dataset = generate_data(env=env_copy, agent=exploratory_agent, episodes=5, render=False)"
   ]
  },
  {
   "cell_type": "code",
   "execution_count": null,
   "metadata": {},
   "outputs": [],
   "source": [
    "query_trajectories = T.Tensor(\n",
    "            np.array(\n",
    "                [\n",
    "                    query_dataset[episode][step][\"obs\"][\"partial_pixels\"]\n",
    "                    for episode in range(len(query_dataset))\n",
    "                    for step in range(len(query_dataset[episode]))\n",
    "                ]\n",
    "            )\n",
    "        )\n",
    "query_targets = T.tensor(\n",
    "            np.array(\n",
    "                [\n",
    "                    episode\n",
    "                    for episode in range(len(query_dataset))\n",
    "                    for step in range(len(query_dataset[episode]))\n",
    "                ]\n",
    "            )\n",
    "        )\n",
    "indices = T.randperm(query_trajectories.shape[0])[: 5]\n",
    "query_observations = query_trajectories[indices]\n",
    "query_targets = query_targets[indices]"
   ]
  },
  {
   "cell_type": "code",
   "execution_count": null,
   "metadata": {},
   "outputs": [],
   "source": [
    "for i in range(query_observations.shape[0]):\n",
    "    plt.imshow(query_observations[i].permute(1,2,0)/255.0)\n",
    "    plt.show()"
   ]
  },
  {
   "cell_type": "code",
   "execution_count": null,
   "metadata": {},
   "outputs": [],
   "source": [
    "query_targets"
   ]
  },
  {
   "cell_type": "code",
   "execution_count": null,
   "metadata": {},
   "outputs": [],
   "source": [
    "T.randperm(4)"
   ]
  },
  {
   "cell_type": "code",
   "execution_count": null,
   "metadata": {},
   "outputs": [],
   "source": [
    "query_environments = T.Tensor(\n",
    "            np.array(\n",
    "                [\n",
    "                    query_dataset[episode][step][\"obs\"][\"pixels\"]\n",
    "                    for episode in range(len(query_dataset))\n",
    "                    for step in range(len(query_dataset[episode]))\n",
    "                ]\n",
    "            )\n",
    "        )\n",
    "query_environments = query_environments[indices]"
   ]
  },
  {
   "cell_type": "code",
   "execution_count": null,
   "metadata": {},
   "outputs": [],
   "source": [
    "for i in range(query_environments.shape[0]):\n",
    "    plt.imshow(query_environments[i].permute(1,2,0)/255.0)\n",
    "    plt.show()"
   ]
  },
  {
   "cell_type": "code",
   "execution_count": null,
   "metadata": {},
   "outputs": [],
   "source": [
    "train_directions=T.Tensor(np.array(\n",
    "                [\n",
    "                    train_dataset[episode][step][\"direction\"]\n",
    "                    for episode in range(len(train_dataset))\n",
    "                    for step in range(len(train_dataset[episode]))\n",
    "                ]\n",
    " )).to(T.int64)\n",
    "\n",
    "query_directions=T.Tensor(np.array(\n",
    "                [\n",
    "                    query_dataset[episode][step][\"direction\"]\n",
    "                    for episode in range(len(query_dataset))\n",
    "                    for step in range(len(query_dataset[episode]))\n",
    "                ]\n",
    " )).to(T.int64)"
   ]
  },
  {
   "cell_type": "code",
   "execution_count": null,
   "metadata": {},
   "outputs": [],
   "source": [
    "query_environments_resampled=F.interpolate(query_environments, size=(56, 56))\n",
    "query_environments_resampled=query_environments_resampled[:,:,2::5,2::5]\n",
    "print(query_environments_resampled.shape)\n",
    "plt.imshow(query_environments_resampled[0].permute(1,2,0)/255.0)"
   ]
  },
  {
   "cell_type": "code",
   "execution_count": null,
   "metadata": {},
   "outputs": [],
   "source": [
    "import torchvision.transforms as transforms\n",
    "resize_cropper = transforms.RandomResizedCrop(size=(352,352))\n",
    "cropped_environments = resize_cropper(query_environments.unsqueeze(0))\n",
    "plt.imshow(resize_cropper(cropped_environments[1]).permute(1,2,0)/255.0)\n",
    "print(query_environments.shape)"
   ]
  },
  {
   "cell_type": "code",
   "execution_count": null,
   "metadata": {},
   "outputs": [],
   "source": [
    "directions = T.Tensor(\n",
    "    np.array(\n",
    "        [\n",
    "            query_dataset[episode][step][\"direction\"]\n",
    "            for episode in range(len(query_dataset))\n",
    "            for step in range(len(query_dataset[episode]))\n",
    "        ]\n",
    "    )\n",
    ").to(T.int64)"
   ]
  },
  {
   "cell_type": "code",
   "execution_count": null,
   "metadata": {},
   "outputs": [],
   "source": [
    "indices = T.randperm(directions.shape[0])[:5]\n",
    "directions[directions!=directions[indices]]"
   ]
  },
  {
   "cell_type": "code",
   "execution_count": null,
   "metadata": {},
   "outputs": [],
   "source": [
    "from process_trajectories import data_to_tensors, sample_views"
   ]
  },
  {
   "cell_type": "code",
   "execution_count": null,
   "metadata": {},
   "outputs": [],
   "source": [
    "train_trajectory=data_to_tensors(train_dataset)"
   ]
  },
  {
   "cell_type": "code",
   "execution_count": null,
   "metadata": {},
   "outputs": [],
   "source": [
    "indices, query_views= sample_views(train_trajectory,5)"
   ]
  },
  {
   "cell_type": "code",
   "execution_count": null,
   "metadata": {},
   "outputs": [],
   "source": [
    "count=0\n",
    "for view in query_views['observations']:\n",
    "    for i in range(len(train_trajectory['observations'])):\n",
    "        if T.allclose(train_trajectory['observations'][i],view):\n",
    "            count+=1\n",
    "print(count)\n",
    "print(len(train_trajectory['observations']))"
   ]
  },
  {
   "cell_type": "code",
   "execution_count": null,
   "metadata": {},
   "outputs": [],
   "source": [
    "for i in range(500,569):\n",
    "    plt.imshow(train_trajectory['observations'][i].transpose(2,0)/255.0)\n",
    "    plt.show()"
   ]
  },
  {
   "cell_type": "code",
   "execution_count": null,
   "metadata": {},
   "outputs": [],
   "source": [
    "plt.imshow(query_views['observations'][0].transpose(2,0)/255.0)"
   ]
  },
  {
   "cell_type": "code",
   "execution_count": null,
   "metadata": {},
   "outputs": [],
   "source": [
    "T.allclose(query_views['observations'][0], train_trajectory['observations'][366])"
   ]
  },
  {
   "cell_type": "code",
   "execution_count": null,
   "metadata": {},
   "outputs": [],
   "source": [
    "support_obs = T.Tensor(np.array(\n",
    "                [\n",
    "                    train_dataset[episode][step][\"obs\"][\"partial_pixels\"] \n",
    "                    for episode in range(len(train_dataset)) \n",
    "                    for step in range(len(train_dataset[episode])) if step%5!=0\n",
    "                ]\n",
    "            )\n",
    "        )"
   ]
  },
  {
   "cell_type": "code",
   "execution_count": null,
   "metadata": {},
   "outputs": [],
   "source": [
    "support_obs.shape"
   ]
  },
  {
   "cell_type": "code",
   "execution_count": null,
   "metadata": {},
   "outputs": [],
   "source": [
    "query_idx = np.array([i for i in range(len(support_obs)) if i%5==0])"
   ]
  },
  {
   "cell_type": "code",
   "execution_count": null,
   "metadata": {},
   "outputs": [],
   "source": [
    "support_idx = np.array([i for i in range(len(support_obs)) if i%5!=0])"
   ]
  },
  {
   "cell_type": "code",
   "execution_count": null,
   "metadata": {},
   "outputs": [],
   "source": [
    "len(support_idx)"
   ]
  },
  {
   "cell_type": "code",
   "execution_count": null,
   "metadata": {},
   "outputs": [],
   "source": [
    "len(query_idx)"
   ]
  },
  {
   "cell_type": "code",
   "execution_count": null,
   "metadata": {},
   "outputs": [],
   "source": [
    "indices = T.randperm(support_obs.shape[0])[:5]\n",
    "indices"
   ]
  },
  {
   "cell_type": "code",
   "execution_count": null,
   "metadata": {},
   "outputs": [],
   "source": [
    "remaining_indices = T.tensor([i for i in range(support_obs.shape[0]) if i not in indices])"
   ]
  },
  {
   "cell_type": "code",
   "execution_count": null,
   "metadata": {},
   "outputs": [],
   "source": [
    "len(remaining_indices)"
   ]
  },
  {
   "cell_type": "code",
   "execution_count": null,
   "metadata": {},
   "outputs": [],
   "source": [
    "query_views, support_trajectories = sample_views(train_trajectory,100)"
   ]
  },
  {
   "cell_type": "code",
   "execution_count": null,
   "metadata": {},
   "outputs": [],
   "source": [
    "query_views['observations'].shape"
   ]
  },
  {
   "cell_type": "code",
   "execution_count": null,
   "metadata": {},
   "outputs": [],
   "source": [
    "for i in range(query_views['observations'].shape[0]):\n",
    "    for j in range(support_trajectories['observations'].shape[0]):\n",
    "        if T.allclose(query_views['observations'][i], support_trajectories['observations'][j]):\n",
    "            print('ok')"
   ]
  },
  {
   "cell_type": "code",
   "execution_count": null,
   "metadata": {},
   "outputs": [],
   "source": [
    "import minigrid_rl_starter.utils as utils\n",
    "# Load environment\n",
    "\n",
    "env = utils.make_env(\"MiniGrid-SimpleCrossingS11N5-v0\", 0)\n",
    "for _ in range(0):\n",
    "    env.reset()\n",
    "env_copy = utils.make_env(\"MiniGrid-SimpleCrossingS11N5-v0\", 0)\n",
    "for _ in range(0):\n",
    "    env_copy.reset()\n",
    "print(\"Environment loaded\\n\")\n",
    "\n",
    "# Load agent\n",
    "\n",
    "trained_model_dir = utils.get_model_dir(\"CrossingS11N5_A2C_fullgrid_navigation\", storage_dir=\"minigrid_rl_starter\")\n",
    "exploratory_model_dir = utils.get_model_dir(\"CrossingS11N5_A2C_fullgrid_navigation_state_bonus\", storage_dir=\"minigrid_rl_starter\")\n",
    "\n",
    "trained_agent = utils.Agent(\n",
    "    env.observation_space,\n",
    "    env.action_space,\n",
    "    trained_model_dir,\n",
    "    argmax=True,\n",
    "    use_memory=False,\n",
    "    use_text=False,\n",
    ")\n",
    "print(\"Trained agent loaded\\n\")\n",
    "\n",
    "exploratory_agent = utils.Agent(\n",
    "    env.observation_space,\n",
    "    env.action_space,\n",
    "    exploratory_model_dir,\n",
    "    argmax=True,\n",
    "    use_memory=False,\n",
    "    use_text=False,\n",
    ")\n",
    "print(\"Exploratory agent loaded\\n\")"
   ]
  },
  {
   "cell_type": "code",
   "execution_count": null,
   "metadata": {},
   "outputs": [],
   "source": [
    "train_dataset = generate_data(env=env, agent=trained_agent, episodes=5, render=False)"
   ]
  },
  {
   "cell_type": "code",
   "execution_count": null,
   "metadata": {},
   "outputs": [],
   "source": [
    "query_dataset = generate_data(env=env_copy, agent=exploratory_agent, episodes=5, render=False)"
   ]
  },
  {
   "cell_type": "code",
   "execution_count": null,
   "metadata": {},
   "outputs": [],
   "source": [
    "plt.imshow(query_dataset[0][14]['obs']['pixels'].transpose(1,2,0))"
   ]
  },
  {
   "cell_type": "code",
   "execution_count": null,
   "metadata": {},
   "outputs": [],
   "source": [
    "query_dataset[0][14]['direction']"
   ]
  },
  {
   "cell_type": "code",
   "execution_count": null,
   "metadata": {},
   "outputs": [],
   "source": [
    "import torch.nn.functional as F\n",
    "F.one_hot(T.Tensor([2]).to(T.int64),4)"
   ]
  },
  {
   "cell_type": "code",
   "execution_count": null,
   "metadata": {},
   "outputs": [],
   "source": [
    "query_trajectories = data_to_tensors(query_dataset)"
   ]
  },
  {
   "cell_type": "code",
   "execution_count": null,
   "metadata": {},
   "outputs": [],
   "source": [
    "print(query_dataset[0][4]['direction'])\n",
    "plt.imshow(query_dataset[0][4]['obs']['pixels'].transpose(1,2,0)/255.0)"
   ]
  },
  {
   "cell_type": "code",
   "execution_count": null,
   "metadata": {},
   "outputs": [],
   "source": [
    "plt.imshow(orientated_trajectories['observations'][4].permute(1,2,0)/255.0)\n",
    "plt.show()\n",
    "plt.imshow(T.rot90(query_trajectories['observations'][4], 2, [1,2]).permute(1,2,0)/255.0)"
   ]
  },
  {
   "cell_type": "code",
   "execution_count": null,
   "metadata": {},
   "outputs": [],
   "source": [
    "def orientate_observations(trajectories):\n",
    "    for i in range(len(trajectories['directions'])):\n",
    "        if trajectories['directions'][i][0]==1:\n",
    "            trajectories['observations'][i] = T.rot90(trajectories['observations'][i], -1, [1,2])\n",
    "        elif trajectories['directions'][i][1]==1:\n",
    "            trajectories['observations'][i] = T.rot90(trajectories['observations'][i], 2, [1,2])\n",
    "        elif trajectories['directions'][i][2]==1:\n",
    "            trajectories['observations'][i] = T.rot90(trajectories['observations'][i], 1, [1,2])\n",
    "        elif trajectories['directions'][i][3]==1:\n",
    "            pass\n",
    "    return trajectories"
   ]
  },
  {
   "cell_type": "code",
   "execution_count": null,
   "metadata": {},
   "outputs": [],
   "source": [
    "orientated_trajectories = orientate_observations(query_trajectories)"
   ]
  },
  {
   "cell_type": "code",
   "execution_count": null,
   "metadata": {},
   "outputs": [],
   "source": [
    "orientated_trajectories['observations'][3]"
   ]
  },
  {
   "cell_type": "code",
   "execution_count": null,
   "metadata": {},
   "outputs": [],
   "source": [
    "env = utils.make_env(\"MiniGrid-SimpleCrossingS11N5-v0\", 0)\n",
    "for _ in range(0):\n",
    "    env.reset()\n",
    "env_copy = utils.make_env(\"MiniGrid-SimpleCrossingS11N5-v0\", 0)\n",
    "for _ in range(0):\n",
    "    env_copy.reset()\n",
    "print(\"Environment loaded\\n\")"
   ]
  },
  {
   "cell_type": "code",
   "execution_count": null,
   "metadata": {},
   "outputs": [],
   "source": [
    "plt.imshow(env.render(\"rgb_array\"))"
   ]
  },
  {
   "cell_type": "code",
   "execution_count": null,
   "metadata": {},
   "outputs": [],
   "source": [
    "plt.imshow(env_copy.render(\"rgb_array\"))"
   ]
  },
  {
   "cell_type": "code",
   "execution_count": null,
   "metadata": {},
   "outputs": [],
   "source": [
    "env = utils.make_env(\"MiniGrid-SimpleCrossingS11N5-v0\", 0)\n",
    "env.reset()"
   ]
  },
  {
   "cell_type": "code",
   "execution_count": null,
   "metadata": {},
   "outputs": [],
   "source": [
    "env = utils.make_env(\"MiniGrid-SimpleCrossingS11N5-v0\", 1)\n",
    "env_copy = utils.make_env(\"MiniGrid-SimpleCrossingS11N5-v0\", 1)\n",
    "env_copy.reset()\n",
    "env.reset()\n",
    "np.allclose(env.reset()['image'], env_copy.reset()['image'])"
   ]
  },
  {
   "cell_type": "code",
   "execution_count": null,
   "metadata": {},
   "outputs": [],
   "source": [
    "env.reset()"
   ]
  },
  {
   "cell_type": "code",
   "execution_count": null,
   "metadata": {},
   "outputs": [],
   "source": [
    "import wandb\n",
    "api = wandb.Api()\n",
    "\n",
    "run_exp = api.run(\"adamjelley/gen-con-rl/2on3lyxa\")\n",
    "run_sin= api.run(\"adamjelley/gen-con-rl/tkclcaor\")\n",
    "\n",
    "run_exp.config = run_sin.config\n",
    "run_exp.config[\"exploratory_agent\"] = \"CrossingS11N5_A2C_fullgrid_navigation_state_bonus\"\n",
    "run_exp.update()"
   ]
  },
  {
   "cell_type": "code",
   "execution_count": null,
   "metadata": {},
   "outputs": [],
   "source": [
    "import torch as T\n",
    "def euclidian_distances(prototypes, embeddings):\n",
    "    distances = T.sum(\n",
    "        (prototypes.unsqueeze(2) - embeddings.unsqueeze(1)) ** 2, dim=-1\n",
    "    )\n",
    "    return distances"
   ]
  },
  {
   "cell_type": "code",
   "execution_count": null,
   "metadata": {},
   "outputs": [],
   "source": [
    "proto=T.rand(1,10,128)\n",
    "embeddings=T.rand(1,100,128)\n",
    "euclidian_distances(proto, embeddings).shape"
   ]
  },
  {
   "cell_type": "code",
   "execution_count": null,
   "metadata": {},
   "outputs": [],
   "source": [
    "import wandb\n",
    "import torch as T\n",
    "import os\n",
    "model_path = os.path.join()\n",
    "checkpoint = T.load(f\"/Users/ajelley/Projects/gen-con-rl/saved_models/GCM_Location_Direction_Exploratory_de09eko4/checkpoint.pt\"\n",
    ")"
   ]
  },
  {
   "cell_type": "code",
   "execution_count": null,
   "metadata": {},
   "outputs": [],
   "source": [
    "wandb.restore(\"checkpoint.pt\", run_path='adamjelley/gen-con-rl/de09eko4').name\n",
    "T.load('/Users/ajelley/Projects/gen-con-rl/checkpoint.pt')"
   ]
  },
  {
   "cell_type": "code",
   "execution_count": null,
   "metadata": {},
   "outputs": [],
   "source": [
    "api = wandb.Api()\n",
    "run_path = 'adamjelley/gen-con-rl/de09eko4'\n",
    "run_id = run_path.split('/')[-1]\n",
    "run=api.run(run_path)\n",
    "checkpoint=run.file(\"checkpoint.pt\").download(root=f'./wandb/saved_checkpoints/{run_id}')"
   ]
  },
  {
   "cell_type": "code",
   "execution_count": null,
   "metadata": {},
   "outputs": [],
   "source": [
    "run_path = 'adamjelley/gen-con-rl/de09eko4'\n",
    "run_id = run_path.split('/')[-1]\n",
    "model_save_path = f'./wandb/saved_checkpoints/{run_id}/checkpoint.pt'\n",
    "if os.path.exists(model_save_path):\n",
    "    checkpoint = T.load(model_save_path)\n",
    "else:\n",
    "    api = wandb.Api()\n",
    "    run=api.run(run_path)\n",
    "    checkpoint=run.file(\"checkpoint.pt\").download(root=f'./wandb/saved_checkpoints/{run_id}')\n",
    "checkpoint['learner_state_dict']"
   ]
  },
  {
   "cell_type": "code",
   "execution_count": null,
   "metadata": {},
   "outputs": [],
   "source": [
    "shape = (3, 32, 32)\n",
    "T.prod(shape)"
   ]
  },
  {
   "cell_type": "code",
   "execution_count": null,
   "metadata": {},
   "outputs": [],
   "source": [
    "plt.imshow(query_environments[i].permute(1,2,0)/255.0)"
   ]
  },
  {
   "cell_type": "code",
   "execution_count": null,
   "metadata": {},
   "outputs": [],
   "source": [
    "def group_targets(targets, num_classes_to_group):\n",
    "    new_targets = (\n",
    "                T.tensor(\n",
    "                    range(len(targets[:, 0]) // num_classes_to_group),\n",
    "                    dtype=T.int64\n",
    "                )\n",
    "                .repeat_interleave(num_classes_to_group)\n",
    "                .unsqueeze(1)\n",
    "                .expand_as(targets)\n",
    "            ).to(targets.device)"
   ]
  },
  {
   "cell_type": "code",
   "execution_count": 45,
   "metadata": {},
   "outputs": [
    {
     "data": {
      "text/plain": [
       "tensor([[ 4,  7,  7,  0, 10, 11,  9,  0, 11,  3],\n",
       "        [ 1,  7,  3,  4, 10,  6, 10,  5,  0,  3],\n",
       "        [ 2,  1,  9,  2,  2,  4, 11,  1,  5, 11],\n",
       "        [10,  0,  2,  9,  7,  5,  1,  4,  7,  8],\n",
       "        [ 4,  6,  3, 10,  9,  4,  8,  1,  7,  6],\n",
       "        [ 6,  8,  2,  6,  1,  4,  0, 11,  1,  4],\n",
       "        [10,  2, 10,  5,  7,  2,  6,  7, 10, 11],\n",
       "        [ 0,  8,  4,  9,  9,  8,  7,  7,  2,  8],\n",
       "        [11,  9,  9,  2,  2,  3,  3,  3, 10,  1],\n",
       "        [ 1,  8,  7,  9,  9,  4, 10,  5,  9,  7],\n",
       "        [ 7,  7,  6,  6,  7,  6,  8, 11,  7,  2],\n",
       "        [ 2,  3,  3,  1,  0, 10,  7,  0,  7,  4],\n",
       "        [ 7,  0, 10,  0,  3,  2,  8, 10,  6,  6],\n",
       "        [ 2,  0,  4,  3,  0,  5,  3,  7,  7,  4],\n",
       "        [ 0,  5, 11,  2,  1, 11, 11,  8,  6,  8],\n",
       "        [ 5,  9,  5,  5,  2,  3,  3,  4,  1,  7],\n",
       "        [ 8,  8, 11,  6, 10, 11,  5, 10,  2,  5],\n",
       "        [ 6,  4,  8,  8, 10,  8,  2, 11,  1,  4],\n",
       "        [ 2,  3, 10, 10,  0,  3,  1,  5,  3,  9],\n",
       "        [ 7,  6,  5, 10,  3,  4, 11,  1,  4,  6],\n",
       "        [ 6,  3,  7, 10, 10,  8, 11,  6, 11,  9],\n",
       "        [ 9,  7,  5, 10, 11, 11,  4,  6,  7, 11],\n",
       "        [11,  1,  5,  3,  6,  1,  2,  1, 11,  7],\n",
       "        [ 9,  5,  6,  8, 10,  5, 10,  3,  2,  2],\n",
       "        [ 0,  7,  2,  0,  8,  2,  7,  9,  6,  5],\n",
       "        [ 1,  6,  9, 10,  9,  0,  7,  2,  5,  6],\n",
       "        [ 7, 11,  6,  4,  1, 10, 11, 10, 11,  4],\n",
       "        [ 3,  3,  2,  4,  4,  2, 10,  2,  2,  3],\n",
       "        [ 4,  9,  6, 10, 10,  8,  1,  5,  6,  4],\n",
       "        [ 1,  5,  0,  7, 10,  2, 10,  5,  6,  5],\n",
       "        [ 8,  9,  2,  8, 11,  4,  7,  9,  9, 10],\n",
       "        [ 6,  1,  6,  0, 11,  5,  9,  3,  4,  5],\n",
       "        [ 4,  8,  3,  0,  2,  5,  0,  6,  9,  4],\n",
       "        [ 9,  9,  1,  0,  1,  8, 11,  7,  4,  0],\n",
       "        [11,  9, 10,  2,  1, 11,  2,  5,  3,  5],\n",
       "        [ 2,  2,  1, 10,  5,  0, 10, 10, 11,  3],\n",
       "        [ 0,  2,  9,  8,  6,  1, 11,  3,  0,  9],\n",
       "        [ 0,  5,  6,  1,  8,  9,  0, 10,  6,  7],\n",
       "        [11, 11,  1,  3,  6,  0,  1, 10,  6, 11],\n",
       "        [10,  3,  2,  8,  0,  3, 10, 10,  3,  3],\n",
       "        [11,  5,  8,  7, 11,  9,  2,  3,  8, 11],\n",
       "        [ 9,  4,  1,  0,  3, 10,  4, 10,  0,  2],\n",
       "        [ 5, 11,  3,  7,  8, 11,  8, 10,  0,  5],\n",
       "        [ 3,  7,  4,  6, 11,  3, 10,  5, 10,  8],\n",
       "        [ 1,  3,  4,  4,  9, 11,  7,  4,  4,  1],\n",
       "        [ 1,  2,  7,  6,  3,  4,  5,  0,  2,  7],\n",
       "        [ 3,  0,  9,  7,  4,  6, 10, 11,  6, 10],\n",
       "        [11,  6,  0, 11,  4,  0,  3,  0,  5,  4],\n",
       "        [ 1,  7,  7,  1,  6,  7,  9,  7, 11,  3],\n",
       "        [ 4, 11,  2,  3,  0,  1,  8,  4,  3,  7],\n",
       "        [ 2,  3,  5,  1,  6,  2,  6, 11,  7,  5],\n",
       "        [ 1, 11,  1,  1,  8,  1, 10,  1,  6, 11],\n",
       "        [ 6,  3,  2,  2,  4,  4,  7, 10,  1,  2],\n",
       "        [11,  2,  9,  2,  8,  7,  5,  2,  1,  5],\n",
       "        [ 4,  6,  2,  3,  5,  3,  0, 10,  6,  1],\n",
       "        [ 4,  9,  4,  4,  6,  1, 11,  0,  8,  8],\n",
       "        [ 2,  1, 10,  1,  7,  5,  3,  5,  3,  4],\n",
       "        [ 9,  5,  1,  3,  7,  7,  4,  7, 10,  9],\n",
       "        [ 5,  0,  5,  3,  9,  9,  7, 11, 11, 10],\n",
       "        [ 8, 11,  6,  1,  3,  8,  5, 11,  2, 11],\n",
       "        [10, 11, 10,  2,  9,  5,  8,  0, 10, 10],\n",
       "        [10,  8,  3,  3,  5,  0,  6,  9,  7,  1],\n",
       "        [ 7,  3,  7,  8,  1,  9,  4, 11,  8,  1],\n",
       "        [ 8,  2,  7,  8,  2,  5,  2, 11,  3,  2],\n",
       "        [10,  0, 11,  9, 11,  5,  1, 10,  1,  9],\n",
       "        [ 5,  9,  2,  1, 10,  2,  2,  4,  6,  2],\n",
       "        [ 3,  0,  0,  3, 10,  5,  8,  9, 10,  2],\n",
       "        [ 7,  6,  0,  2,  5,  8,  2,  2,  4, 11],\n",
       "        [ 6,  0,  8,  6,  2,  0,  1,  1,  6,  8],\n",
       "        [ 5,  8, 10,  8,  7,  3, 10, 10, 10,  1],\n",
       "        [ 5,  6,  7,  6,  5,  0,  8,  1, 11,  1],\n",
       "        [ 2, 11,  5,  6,  2,  5,  3,  2,  4,  1],\n",
       "        [ 2,  1, 10,  1, 10, 10, 11,  5,  4,  9],\n",
       "        [ 9,  8, 11,  9,  0,  4,  2, 10,  4,  2],\n",
       "        [ 3,  3,  5,  0,  5,  7,  3, 10,  0, 11],\n",
       "        [ 5,  0, 11, 10,  7,  2,  9,  1,  5,  5],\n",
       "        [10, 10,  4,  3, 11,  2,  1,  9,  0,  5],\n",
       "        [ 2,  3,  5,  0,  1,  2,  3,  6,  8, 10],\n",
       "        [11, 11,  9,  7,  8,  5,  6,  7,  2,  5],\n",
       "        [ 9, 11,  9,  7, 10, 11,  6,  7,  4,  8],\n",
       "        [ 0,  3,  2, 10,  5,  6,  5,  4,  6,  3],\n",
       "        [ 9,  8,  2, 11,  0,  5,  8,  6,  7,  1],\n",
       "        [ 6,  0,  0,  2,  0, 10,  1,  2,  3,  0],\n",
       "        [11, 10,  1, 10,  6,  9, 11,  8, 10,  6],\n",
       "        [ 7,  1, 10,  1,  3,  2,  7,  9,  6,  8],\n",
       "        [11,  6,  8,  4,  3,  9,  9,  6,  8,  6],\n",
       "        [ 8,  1, 11,  3,  5,  8,  9,  9,  1, 11],\n",
       "        [ 0,  8, 11,  2, 10,  7,  6,  4,  2,  8],\n",
       "        [ 8, 11, 10,  8,  2,  4,  7,  2,  8,  4],\n",
       "        [11,  5,  1,  6,  2,  6,  6,  8,  8,  5],\n",
       "        [ 0,  5,  6,  6,  3,  5,  1,  8,  3,  5],\n",
       "        [11,  5,  1,  4,  4,  3,  5,  3,  8,  7],\n",
       "        [ 8,  9,  8, 11,  1,  3,  7,  7,  8,  0],\n",
       "        [ 1, 11,  3,  9,  5,  4,  5,  2,  0,  9],\n",
       "        [ 1,  0,  3, 11,  5,  3,  9,  2,  4,  7],\n",
       "        [ 1,  7,  1,  1, 11,  2,  8, 11,  4, 11],\n",
       "        [ 9,  6,  9,  2,  8,  8,  0, 11,  5,  1],\n",
       "        [ 9,  6,  3,  3,  9,  8,  2,  5, 11,  5],\n",
       "        [ 9, 10,  9,  9,  8, 11,  4,  9,  6,  7],\n",
       "        [ 3,  6,  0,  8, 11,  1,  4,  5,  2,  9]])"
      ]
     },
     "execution_count": 45,
     "metadata": {},
     "output_type": "execute_result"
    }
   ],
   "source": [
    "targets = T.randint(0, 12, (100,10))\n",
    "num_classes_to_group = 3\n",
    "targets"
   ]
  },
  {
   "cell_type": "code",
   "execution_count": 50,
   "metadata": {},
   "outputs": [],
   "source": [
    "def group_targets(targets, num_classes_to_group):\n",
    "    class_groupings = targets.unique(sorted=False).chunk(len(targets.unique())//num_classes_to_group)\n",
    "    class_mappings = {v_item:k for k, v in enumerate(class_groupings) for v_item in v.tolist()}\n",
    "    new_targets = targets.clone().cpu().apply_(class_mappings.get).to(targets.device)\n",
    "    return new_targets"
   ]
  },
  {
   "cell_type": "code",
   "execution_count": 38,
   "metadata": {},
   "outputs": [
    {
     "data": {
      "text/plain": [
       "{1: 0, 5: 0, 2: 0, 8: 1, 3: 1, 7: 1, 6: 2, 4: 2, 9: 2, 0: 3, 10: 3, 11: 3}"
      ]
     },
     "execution_count": 38,
     "metadata": {},
     "output_type": "execute_result"
    }
   ],
   "source": [
    "class_mappings={v_item:k for k, v in enumerate(targets.unique(sorted=False).chunk(len(targets.unique())//num_classes_to_group)) for v_item in v.tolist()}\n",
    "class_mappings"
   ]
  },
  {
   "cell_type": "code",
   "execution_count": 51,
   "metadata": {},
   "outputs": [
    {
     "data": {
      "text/plain": [
       "tensor([[ 4,  7,  7,  0, 10, 11,  9,  0, 11,  3],\n",
       "        [ 1,  7,  3,  4, 10,  6, 10,  5,  0,  3],\n",
       "        [ 2,  1,  9,  2,  2,  4, 11,  1,  5, 11],\n",
       "        [10,  0,  2,  9,  7,  5,  1,  4,  7,  8],\n",
       "        [ 4,  6,  3, 10,  9,  4,  8,  1,  7,  6],\n",
       "        [ 6,  8,  2,  6,  1,  4,  0, 11,  1,  4],\n",
       "        [10,  2, 10,  5,  7,  2,  6,  7, 10, 11],\n",
       "        [ 0,  8,  4,  9,  9,  8,  7,  7,  2,  8],\n",
       "        [11,  9,  9,  2,  2,  3,  3,  3, 10,  1],\n",
       "        [ 1,  8,  7,  9,  9,  4, 10,  5,  9,  7],\n",
       "        [ 7,  7,  6,  6,  7,  6,  8, 11,  7,  2],\n",
       "        [ 2,  3,  3,  1,  0, 10,  7,  0,  7,  4],\n",
       "        [ 7,  0, 10,  0,  3,  2,  8, 10,  6,  6],\n",
       "        [ 2,  0,  4,  3,  0,  5,  3,  7,  7,  4],\n",
       "        [ 0,  5, 11,  2,  1, 11, 11,  8,  6,  8],\n",
       "        [ 5,  9,  5,  5,  2,  3,  3,  4,  1,  7],\n",
       "        [ 8,  8, 11,  6, 10, 11,  5, 10,  2,  5],\n",
       "        [ 6,  4,  8,  8, 10,  8,  2, 11,  1,  4],\n",
       "        [ 2,  3, 10, 10,  0,  3,  1,  5,  3,  9],\n",
       "        [ 7,  6,  5, 10,  3,  4, 11,  1,  4,  6],\n",
       "        [ 6,  3,  7, 10, 10,  8, 11,  6, 11,  9],\n",
       "        [ 9,  7,  5, 10, 11, 11,  4,  6,  7, 11],\n",
       "        [11,  1,  5,  3,  6,  1,  2,  1, 11,  7],\n",
       "        [ 9,  5,  6,  8, 10,  5, 10,  3,  2,  2],\n",
       "        [ 0,  7,  2,  0,  8,  2,  7,  9,  6,  5],\n",
       "        [ 1,  6,  9, 10,  9,  0,  7,  2,  5,  6],\n",
       "        [ 7, 11,  6,  4,  1, 10, 11, 10, 11,  4],\n",
       "        [ 3,  3,  2,  4,  4,  2, 10,  2,  2,  3],\n",
       "        [ 4,  9,  6, 10, 10,  8,  1,  5,  6,  4],\n",
       "        [ 1,  5,  0,  7, 10,  2, 10,  5,  6,  5],\n",
       "        [ 8,  9,  2,  8, 11,  4,  7,  9,  9, 10],\n",
       "        [ 6,  1,  6,  0, 11,  5,  9,  3,  4,  5],\n",
       "        [ 4,  8,  3,  0,  2,  5,  0,  6,  9,  4],\n",
       "        [ 9,  9,  1,  0,  1,  8, 11,  7,  4,  0],\n",
       "        [11,  9, 10,  2,  1, 11,  2,  5,  3,  5],\n",
       "        [ 2,  2,  1, 10,  5,  0, 10, 10, 11,  3],\n",
       "        [ 0,  2,  9,  8,  6,  1, 11,  3,  0,  9],\n",
       "        [ 0,  5,  6,  1,  8,  9,  0, 10,  6,  7],\n",
       "        [11, 11,  1,  3,  6,  0,  1, 10,  6, 11],\n",
       "        [10,  3,  2,  8,  0,  3, 10, 10,  3,  3],\n",
       "        [11,  5,  8,  7, 11,  9,  2,  3,  8, 11],\n",
       "        [ 9,  4,  1,  0,  3, 10,  4, 10,  0,  2],\n",
       "        [ 5, 11,  3,  7,  8, 11,  8, 10,  0,  5],\n",
       "        [ 3,  7,  4,  6, 11,  3, 10,  5, 10,  8],\n",
       "        [ 1,  3,  4,  4,  9, 11,  7,  4,  4,  1],\n",
       "        [ 1,  2,  7,  6,  3,  4,  5,  0,  2,  7],\n",
       "        [ 3,  0,  9,  7,  4,  6, 10, 11,  6, 10],\n",
       "        [11,  6,  0, 11,  4,  0,  3,  0,  5,  4],\n",
       "        [ 1,  7,  7,  1,  6,  7,  9,  7, 11,  3],\n",
       "        [ 4, 11,  2,  3,  0,  1,  8,  4,  3,  7],\n",
       "        [ 2,  3,  5,  1,  6,  2,  6, 11,  7,  5],\n",
       "        [ 1, 11,  1,  1,  8,  1, 10,  1,  6, 11],\n",
       "        [ 6,  3,  2,  2,  4,  4,  7, 10,  1,  2],\n",
       "        [11,  2,  9,  2,  8,  7,  5,  2,  1,  5],\n",
       "        [ 4,  6,  2,  3,  5,  3,  0, 10,  6,  1],\n",
       "        [ 4,  9,  4,  4,  6,  1, 11,  0,  8,  8],\n",
       "        [ 2,  1, 10,  1,  7,  5,  3,  5,  3,  4],\n",
       "        [ 9,  5,  1,  3,  7,  7,  4,  7, 10,  9],\n",
       "        [ 5,  0,  5,  3,  9,  9,  7, 11, 11, 10],\n",
       "        [ 8, 11,  6,  1,  3,  8,  5, 11,  2, 11],\n",
       "        [10, 11, 10,  2,  9,  5,  8,  0, 10, 10],\n",
       "        [10,  8,  3,  3,  5,  0,  6,  9,  7,  1],\n",
       "        [ 7,  3,  7,  8,  1,  9,  4, 11,  8,  1],\n",
       "        [ 8,  2,  7,  8,  2,  5,  2, 11,  3,  2],\n",
       "        [10,  0, 11,  9, 11,  5,  1, 10,  1,  9],\n",
       "        [ 5,  9,  2,  1, 10,  2,  2,  4,  6,  2],\n",
       "        [ 3,  0,  0,  3, 10,  5,  8,  9, 10,  2],\n",
       "        [ 7,  6,  0,  2,  5,  8,  2,  2,  4, 11],\n",
       "        [ 6,  0,  8,  6,  2,  0,  1,  1,  6,  8],\n",
       "        [ 5,  8, 10,  8,  7,  3, 10, 10, 10,  1],\n",
       "        [ 5,  6,  7,  6,  5,  0,  8,  1, 11,  1],\n",
       "        [ 2, 11,  5,  6,  2,  5,  3,  2,  4,  1],\n",
       "        [ 2,  1, 10,  1, 10, 10, 11,  5,  4,  9],\n",
       "        [ 9,  8, 11,  9,  0,  4,  2, 10,  4,  2],\n",
       "        [ 3,  3,  5,  0,  5,  7,  3, 10,  0, 11],\n",
       "        [ 5,  0, 11, 10,  7,  2,  9,  1,  5,  5],\n",
       "        [10, 10,  4,  3, 11,  2,  1,  9,  0,  5],\n",
       "        [ 2,  3,  5,  0,  1,  2,  3,  6,  8, 10],\n",
       "        [11, 11,  9,  7,  8,  5,  6,  7,  2,  5],\n",
       "        [ 9, 11,  9,  7, 10, 11,  6,  7,  4,  8],\n",
       "        [ 0,  3,  2, 10,  5,  6,  5,  4,  6,  3],\n",
       "        [ 9,  8,  2, 11,  0,  5,  8,  6,  7,  1],\n",
       "        [ 6,  0,  0,  2,  0, 10,  1,  2,  3,  0],\n",
       "        [11, 10,  1, 10,  6,  9, 11,  8, 10,  6],\n",
       "        [ 7,  1, 10,  1,  3,  2,  7,  9,  6,  8],\n",
       "        [11,  6,  8,  4,  3,  9,  9,  6,  8,  6],\n",
       "        [ 8,  1, 11,  3,  5,  8,  9,  9,  1, 11],\n",
       "        [ 0,  8, 11,  2, 10,  7,  6,  4,  2,  8],\n",
       "        [ 8, 11, 10,  8,  2,  4,  7,  2,  8,  4],\n",
       "        [11,  5,  1,  6,  2,  6,  6,  8,  8,  5],\n",
       "        [ 0,  5,  6,  6,  3,  5,  1,  8,  3,  5],\n",
       "        [11,  5,  1,  4,  4,  3,  5,  3,  8,  7],\n",
       "        [ 8,  9,  8, 11,  1,  3,  7,  7,  8,  0],\n",
       "        [ 1, 11,  3,  9,  5,  4,  5,  2,  0,  9],\n",
       "        [ 1,  0,  3, 11,  5,  3,  9,  2,  4,  7],\n",
       "        [ 1,  7,  1,  1, 11,  2,  8, 11,  4, 11],\n",
       "        [ 9,  6,  9,  2,  8,  8,  0, 11,  5,  1],\n",
       "        [ 9,  6,  3,  3,  9,  8,  2,  5, 11,  5],\n",
       "        [ 9, 10,  9,  9,  8, 11,  4,  9,  6,  7],\n",
       "        [ 3,  6,  0,  8, 11,  1,  4,  5,  2,  9]])"
      ]
     },
     "execution_count": 51,
     "metadata": {},
     "output_type": "execute_result"
    }
   ],
   "source": [
    "targets"
   ]
  },
  {
   "cell_type": "code",
   "execution_count": 63,
   "metadata": {},
   "outputs": [],
   "source": [
    "new_targets=group_targets(targets, 5)"
   ]
  },
  {
   "cell_type": "code",
   "execution_count": 64,
   "metadata": {},
   "outputs": [
    {
     "data": {
      "text/plain": [
       "tensor([[1, 1, 1, 1, 1, 1, 1, 1, 1, 0],\n",
       "        [0, 1, 0, 1, 1, 0, 1, 0, 1, 0],\n",
       "        [0, 0, 1, 0, 0, 1, 1, 0, 0, 1],\n",
       "        [1, 1, 0, 1, 1, 0, 0, 1, 1, 0],\n",
       "        [1, 0, 0, 1, 1, 1, 0, 0, 1, 0],\n",
       "        [0, 0, 0, 0, 0, 1, 1, 1, 0, 1],\n",
       "        [1, 0, 1, 0, 1, 0, 0, 1, 1, 1],\n",
       "        [1, 0, 1, 1, 1, 0, 1, 1, 0, 0],\n",
       "        [1, 1, 1, 0, 0, 0, 0, 0, 1, 0],\n",
       "        [0, 0, 1, 1, 1, 1, 1, 0, 1, 1],\n",
       "        [1, 1, 0, 0, 1, 0, 0, 1, 1, 0],\n",
       "        [0, 0, 0, 0, 1, 1, 1, 1, 1, 1],\n",
       "        [1, 1, 1, 1, 0, 0, 0, 1, 0, 0],\n",
       "        [0, 1, 1, 0, 1, 0, 0, 1, 1, 1],\n",
       "        [1, 0, 1, 0, 0, 1, 1, 0, 0, 0],\n",
       "        [0, 1, 0, 0, 0, 0, 0, 1, 0, 1],\n",
       "        [0, 0, 1, 0, 1, 1, 0, 1, 0, 0],\n",
       "        [0, 1, 0, 0, 1, 0, 0, 1, 0, 1],\n",
       "        [0, 0, 1, 1, 1, 0, 0, 0, 0, 1],\n",
       "        [1, 0, 0, 1, 0, 1, 1, 0, 1, 0],\n",
       "        [0, 0, 1, 1, 1, 0, 1, 0, 1, 1],\n",
       "        [1, 1, 0, 1, 1, 1, 1, 0, 1, 1],\n",
       "        [1, 0, 0, 0, 0, 0, 0, 0, 1, 1],\n",
       "        [1, 0, 0, 0, 1, 0, 1, 0, 0, 0],\n",
       "        [1, 1, 0, 1, 0, 0, 1, 1, 0, 0],\n",
       "        [0, 0, 1, 1, 1, 1, 1, 0, 0, 0],\n",
       "        [1, 1, 0, 1, 0, 1, 1, 1, 1, 1],\n",
       "        [0, 0, 0, 1, 1, 0, 1, 0, 0, 0],\n",
       "        [1, 1, 0, 1, 1, 0, 0, 0, 0, 1],\n",
       "        [0, 0, 1, 1, 1, 0, 1, 0, 0, 0],\n",
       "        [0, 1, 0, 0, 1, 1, 1, 1, 1, 1],\n",
       "        [0, 0, 0, 1, 1, 0, 1, 0, 1, 0],\n",
       "        [1, 0, 0, 1, 0, 0, 1, 0, 1, 1],\n",
       "        [1, 1, 0, 1, 0, 0, 1, 1, 1, 1],\n",
       "        [1, 1, 1, 0, 0, 1, 0, 0, 0, 0],\n",
       "        [0, 0, 0, 1, 0, 1, 1, 1, 1, 0],\n",
       "        [1, 0, 1, 0, 0, 0, 1, 0, 1, 1],\n",
       "        [1, 0, 0, 0, 0, 1, 1, 1, 0, 1],\n",
       "        [1, 1, 0, 0, 0, 1, 0, 1, 0, 1],\n",
       "        [1, 0, 0, 0, 1, 0, 1, 1, 0, 0],\n",
       "        [1, 0, 0, 1, 1, 1, 0, 0, 0, 1],\n",
       "        [1, 1, 0, 1, 0, 1, 1, 1, 1, 0],\n",
       "        [0, 1, 0, 1, 0, 1, 0, 1, 1, 0],\n",
       "        [0, 1, 1, 0, 1, 0, 1, 0, 1, 0],\n",
       "        [0, 0, 1, 1, 1, 1, 1, 1, 1, 0],\n",
       "        [0, 0, 1, 0, 0, 1, 0, 1, 0, 1],\n",
       "        [0, 1, 1, 1, 1, 0, 1, 1, 0, 1],\n",
       "        [1, 0, 1, 1, 1, 1, 0, 1, 0, 1],\n",
       "        [0, 1, 1, 0, 0, 1, 1, 1, 1, 0],\n",
       "        [1, 1, 0, 0, 1, 0, 0, 1, 0, 1],\n",
       "        [0, 0, 0, 0, 0, 0, 0, 1, 1, 0],\n",
       "        [0, 1, 0, 0, 0, 0, 1, 0, 0, 1],\n",
       "        [0, 0, 0, 0, 1, 1, 1, 1, 0, 0],\n",
       "        [1, 0, 1, 0, 0, 1, 0, 0, 0, 0],\n",
       "        [1, 0, 0, 0, 0, 0, 1, 1, 0, 0],\n",
       "        [1, 1, 1, 1, 0, 0, 1, 1, 0, 0],\n",
       "        [0, 0, 1, 0, 1, 0, 0, 0, 0, 1],\n",
       "        [1, 0, 0, 0, 1, 1, 1, 1, 1, 1],\n",
       "        [0, 1, 0, 0, 1, 1, 1, 1, 1, 1],\n",
       "        [0, 1, 0, 0, 0, 0, 0, 1, 0, 1],\n",
       "        [1, 1, 1, 0, 1, 0, 0, 1, 1, 1],\n",
       "        [1, 0, 0, 0, 0, 1, 0, 1, 1, 0],\n",
       "        [1, 0, 1, 0, 0, 1, 1, 1, 0, 0],\n",
       "        [0, 0, 1, 0, 0, 0, 0, 1, 0, 0],\n",
       "        [1, 1, 1, 1, 1, 0, 0, 1, 0, 1],\n",
       "        [0, 1, 0, 0, 1, 0, 0, 1, 0, 0],\n",
       "        [0, 1, 1, 0, 1, 0, 0, 1, 1, 0],\n",
       "        [1, 0, 1, 0, 0, 0, 0, 0, 1, 1],\n",
       "        [0, 1, 0, 0, 0, 1, 0, 0, 0, 0],\n",
       "        [0, 0, 1, 0, 1, 0, 1, 1, 1, 0],\n",
       "        [0, 0, 1, 0, 0, 1, 0, 0, 1, 0],\n",
       "        [0, 1, 0, 0, 0, 0, 0, 0, 1, 0],\n",
       "        [0, 0, 1, 0, 1, 1, 1, 0, 1, 1],\n",
       "        [1, 0, 1, 1, 1, 1, 0, 1, 1, 0],\n",
       "        [0, 0, 0, 1, 0, 1, 0, 1, 1, 1],\n",
       "        [0, 1, 1, 1, 1, 0, 1, 0, 0, 0],\n",
       "        [1, 1, 1, 0, 1, 0, 0, 1, 1, 0],\n",
       "        [0, 0, 0, 1, 0, 0, 0, 0, 0, 1],\n",
       "        [1, 1, 1, 1, 0, 0, 0, 1, 0, 0],\n",
       "        [1, 1, 1, 1, 1, 1, 0, 1, 1, 0],\n",
       "        [1, 0, 0, 1, 0, 0, 0, 1, 0, 0],\n",
       "        [1, 0, 0, 1, 1, 0, 0, 0, 1, 0],\n",
       "        [0, 1, 1, 0, 1, 1, 0, 0, 0, 1],\n",
       "        [1, 1, 0, 1, 0, 1, 1, 0, 1, 0],\n",
       "        [1, 0, 1, 0, 0, 0, 1, 1, 0, 0],\n",
       "        [1, 0, 0, 1, 0, 1, 1, 0, 0, 0],\n",
       "        [0, 0, 1, 0, 0, 0, 1, 1, 0, 1],\n",
       "        [1, 0, 1, 0, 1, 1, 0, 1, 0, 0],\n",
       "        [0, 1, 1, 0, 0, 1, 1, 0, 0, 1],\n",
       "        [1, 0, 0, 0, 0, 0, 0, 0, 0, 0],\n",
       "        [1, 0, 0, 0, 0, 0, 0, 0, 0, 0],\n",
       "        [1, 0, 0, 1, 1, 0, 0, 0, 0, 1],\n",
       "        [0, 1, 0, 1, 0, 0, 1, 1, 0, 1],\n",
       "        [0, 1, 0, 1, 0, 1, 0, 0, 1, 1],\n",
       "        [0, 1, 0, 1, 0, 0, 1, 0, 1, 1],\n",
       "        [0, 1, 0, 0, 1, 0, 0, 1, 1, 1],\n",
       "        [1, 0, 1, 0, 0, 0, 1, 1, 0, 0],\n",
       "        [1, 0, 0, 0, 1, 0, 0, 0, 1, 0],\n",
       "        [1, 1, 1, 1, 0, 1, 1, 1, 0, 1],\n",
       "        [0, 0, 1, 0, 1, 0, 1, 0, 0, 1]])"
      ]
     },
     "execution_count": 64,
     "metadata": {},
     "output_type": "execute_result"
    }
   ],
   "source": [
    "new_targets"
   ]
  },
  {
   "cell_type": "code",
   "execution_count": null,
   "metadata": {},
   "outputs": [],
   "source": []
  }
 ],
 "metadata": {
  "kernelspec": {
   "display_name": "Python 3.9.13 ('gen-con-rl')",
   "language": "python",
   "name": "python3"
  },
  "language_info": {
   "codemirror_mode": {
    "name": "ipython",
    "version": 3
   },
   "file_extension": ".py",
   "mimetype": "text/x-python",
   "name": "python",
   "nbconvert_exporter": "python",
   "pygments_lexer": "ipython3",
   "version": "3.9.13"
  },
  "orig_nbformat": 4,
  "vscode": {
   "interpreter": {
    "hash": "2a1f147744105889fac41a67aa6bbeb69424d817e5c7ade432bc6fd64534b961"
   }
  }
 },
 "nbformat": 4,
 "nbformat_minor": 2
}
