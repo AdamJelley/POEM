{
 "cells": [
  {
   "cell_type": "code",
   "execution_count": 1,
   "metadata": {},
   "outputs": [],
   "source": [
    "%load_ext autoreload\n",
    "%autoreload 2"
   ]
  },
  {
   "cell_type": "code",
   "execution_count": 2,
   "metadata": {},
   "outputs": [],
   "source": [
    "import pickle\n",
    "import math\n",
    "import numpy as np\n",
    "import torch as T\n",
    "import matplotlib.pyplot as plt"
   ]
  },
  {
   "cell_type": "code",
   "execution_count": 3,
   "metadata": {},
   "outputs": [],
   "source": [
    "dataset_path = \"datasets/MiniGrid-SimpleCrossingS11N5-v0-CrossingS11N5_A2C_Fullgrid-10.pickle\""
   ]
  },
  {
   "cell_type": "code",
   "execution_count": 4,
   "metadata": {},
   "outputs": [],
   "source": [
    "with open(dataset_path, 'rb') as handle:\n",
    "    data = pickle.load(handle)"
   ]
  },
  {
   "cell_type": "code",
   "execution_count": 5,
   "metadata": {},
   "outputs": [
    {
     "data": {
      "text/plain": [
       "dict_keys(['image', 'direction', 'mission', 'partial_image', 'pixels', 'partial_pixels'])"
      ]
     },
     "execution_count": 5,
     "metadata": {},
     "output_type": "execute_result"
    }
   ],
   "source": [
    "data[9][3]['obs'].keys()"
   ]
  },
  {
   "cell_type": "code",
   "execution_count": 6,
   "metadata": {},
   "outputs": [
    {
     "data": {
      "text/plain": [
       "dict_keys([0, 1, 2, 3, 4, 5, 6, 7, 8, 9, 10, 11, 12, 13, 14, 15, 16, 17, 18, 19, 20, 21, 22, 23, 24, 25, 26, 27, 28, 29, 30, 31, 32, 33, 34])"
      ]
     },
     "execution_count": 6,
     "metadata": {},
     "output_type": "execute_result"
    }
   ],
   "source": [
    "data[0].keys()"
   ]
  },
  {
   "cell_type": "code",
   "execution_count": 7,
   "metadata": {},
   "outputs": [
    {
     "name": "stdout",
     "output_type": "stream",
     "text": [
      "[2, 2, 2, 2, 2, 4, 5, 6, 2, 5, 5, 1, 2, 5, 4, 2, 3, 0, 2, 1, 2, 5, 2, 5, 2, 2, 0, 4, 2, 2, 1, 2, 3, 3, 2]\n"
     ]
    }
   ],
   "source": [
    "print([data[0][i]['action'] for i in range(len(data[0]))])"
   ]
  },
  {
   "cell_type": "code",
   "execution_count": 8,
   "metadata": {},
   "outputs": [
    {
     "data": {
      "text/plain": [
       "0"
      ]
     },
     "execution_count": 8,
     "metadata": {},
     "output_type": "execute_result"
    }
   ],
   "source": [
    "data[0][11]['direction']"
   ]
  },
  {
   "cell_type": "code",
   "execution_count": 9,
   "metadata": {},
   "outputs": [
    {
     "data": {
      "text/plain": [
       "1"
      ]
     },
     "execution_count": 9,
     "metadata": {},
     "output_type": "execute_result"
    }
   ],
   "source": [
    "data[0][12]['direction']"
   ]
  },
  {
   "cell_type": "code",
   "execution_count": 10,
   "metadata": {},
   "outputs": [
    {
     "data": {
      "text/plain": [
       "False"
      ]
     },
     "execution_count": 10,
     "metadata": {},
     "output_type": "execute_result"
    }
   ],
   "source": [
    "np.allclose(data[0][11]['obs']['partial_image'], data[0][12]['obs']['partial_image'])"
   ]
  },
  {
   "cell_type": "code",
   "execution_count": 11,
   "metadata": {},
   "outputs": [
    {
     "data": {
      "text/plain": [
       "array([[ 2,  2,  2,  2,  2,  2,  2,  2,  2,  2,  2],\n",
       "       [ 2,  1,  2,  1,  2,  1,  1,  1,  2,  1,  2],\n",
       "       [ 2,  1,  2,  1,  2,  1,  1,  1,  2,  1,  2],\n",
       "       [ 2,  1,  2,  1,  2,  1,  1,  1,  2,  1,  2],\n",
       "       [ 2,  1,  2,  2,  2,  2,  2,  2,  2,  2,  2],\n",
       "       [ 2,  1,  2,  1,  2,  1,  1,  1,  2,  1,  2],\n",
       "       [ 2,  1,  2,  2,  2,  2,  2,  2,  2,  2,  2],\n",
       "       [ 2, 10,  1,  1,  2,  1,  1,  1,  2,  1,  2],\n",
       "       [ 2,  1,  2,  1,  1,  1,  1,  1,  2,  1,  2],\n",
       "       [ 2,  1,  2,  1,  2,  1,  1,  1,  1,  8,  2],\n",
       "       [ 2,  2,  2,  2,  2,  2,  2,  2,  2,  2,  2]], dtype=uint8)"
      ]
     },
     "execution_count": 11,
     "metadata": {},
     "output_type": "execute_result"
    }
   ],
   "source": [
    "data[0][11]['obs']['image'][:,:,0]"
   ]
  },
  {
   "cell_type": "code",
   "execution_count": null,
   "metadata": {},
   "outputs": [],
   "source": [
    " data[0][12]['obs']['image'][:,:,0]"
   ]
  },
  {
   "cell_type": "code",
   "execution_count": null,
   "metadata": {},
   "outputs": [],
   "source": [
    " data[0][12]['location']"
   ]
  },
  {
   "cell_type": "code",
   "execution_count": null,
   "metadata": {},
   "outputs": [],
   "source": [
    "T.Tensor([data[episode][step]['direction'] for episode in range(len(data)) for step in range(len(data[episode]))]).shape"
   ]
  },
  {
   "cell_type": "code",
   "execution_count": null,
   "metadata": {},
   "outputs": [],
   "source": [
    "support_trajectories = T.Tensor(np.array([data[episode][step]['obs']['partial_pixels'] for episode in range(len(data)) for step in range(len(data[episode]))]))\n",
    "support_targets = T.tensor(np.array([episode for episode in range(len(data)) for step in range(len(data[episode]))]))"
   ]
  },
  {
   "cell_type": "code",
   "execution_count": null,
   "metadata": {},
   "outputs": [],
   "source": [
    "for target in support_targets.unique():\n",
    "    trajectory=support_trajectories[support_targets==target]\n",
    "    print(trajectory.shape)"
   ]
  },
  {
   "cell_type": "code",
   "execution_count": null,
   "metadata": {},
   "outputs": [],
   "source": [
    "from generative_contrastive_modelling.gcm_encoder import GCMEncoder\n",
    "from generative_contrastive_modelling.gcm import GenerativeContrastiveModelling\n",
    "\n",
    "GCM = GenerativeContrastiveModelling(support_trajectories.shape, 64, 64)\n",
    "gcm_encoder = GCMEncoder(support_trajectories.shape, 64, 64)"
   ]
  },
  {
   "cell_type": "code",
   "execution_count": null,
   "metadata": {},
   "outputs": [],
   "source": [
    "gcm_encoder.forward(support_trajectories)"
   ]
  },
  {
   "cell_type": "code",
   "execution_count": null,
   "metadata": {},
   "outputs": [],
   "source": [
    "from generative_contrastive_modelling.proto_encoder import ProtoEncoder\n",
    "from generative_contrastive_modelling.protonet import PrototypicalNetwork\n",
    "\n",
    "proto_encoder = ProtoEncoder(support_trajectories.shape, 64, 64)\n",
    "protonet = PrototypicalNetwork(support_trajectories.shape, 64, 64)"
   ]
  },
  {
   "cell_type": "code",
   "execution_count": null,
   "metadata": {},
   "outputs": [],
   "source": [
    "proto_encoder.forward(support_trajectories)"
   ]
  },
  {
   "cell_type": "code",
   "execution_count": null,
   "metadata": {},
   "outputs": [],
   "source": [
    "indices = T.randperm(support_trajectories.shape[0])[:5]\n",
    "query_observations = support_trajectories[indices]\n",
    "query_targets = support_targets[indices]"
   ]
  },
  {
   "cell_type": "code",
   "execution_count": null,
   "metadata": {},
   "outputs": [],
   "source": [
    "query_targets"
   ]
  },
  {
   "cell_type": "code",
   "execution_count": null,
   "metadata": {},
   "outputs": [],
   "source": [
    "observations=T.cat([support_trajectories, query_observations], dim=0)"
   ]
  },
  {
   "cell_type": "code",
   "execution_count": null,
   "metadata": {},
   "outputs": [],
   "source": [
    "GCM.compute_loss(support_trajectories=support_trajectories, support_targets=support_targets, query_observations=query_observations, query_targets=query_targets)"
   ]
  },
  {
   "cell_type": "code",
   "execution_count": null,
   "metadata": {},
   "outputs": [],
   "source": [
    "protonet.compute_loss(support_trajectories=support_trajectories, support_targets=support_targets, query_observations=query_observations, query_targets=query_targets)"
   ]
  },
  {
   "cell_type": "code",
   "execution_count": null,
   "metadata": {},
   "outputs": [],
   "source": [
    "support_targets.squeeze_(0).shape"
   ]
  },
  {
   "cell_type": "code",
   "execution_count": null,
   "metadata": {},
   "outputs": [],
   "source": [
    "support_targets.shape"
   ]
  },
  {
   "cell_type": "code",
   "execution_count": null,
   "metadata": {},
   "outputs": [],
   "source": [
    "data[0][11]['obs']['partial_pixels'].shape"
   ]
  },
  {
   "cell_type": "code",
   "execution_count": null,
   "metadata": {},
   "outputs": [],
   "source": [
    "plt.imshow(data[0][11]['obs']['partial_pixels'].transpose(1,2,0))"
   ]
  },
  {
   "cell_type": "code",
   "execution_count": null,
   "metadata": {},
   "outputs": [],
   "source": [
    "for i in range(len(data[0])):\n",
    "    plt.imshow(data[0][i]['obs']['partial_pixels'].transpose(1,2,0))\n",
    "    plt.show()"
   ]
  },
  {
   "cell_type": "code",
   "execution_count": null,
   "metadata": {},
   "outputs": [],
   "source": [
    "import torch.nn.functional as F\n",
    "plt.imshow(F.interpolate(T.Tensor(data[0][11]['obs']['pixels'].transpose(2,1,0)), size=(11,11))/255.0)"
   ]
  },
  {
   "cell_type": "code",
   "execution_count": null,
   "metadata": {},
   "outputs": [],
   "source": [
    "data[0][11]['obs']['partial_pixels'].transpose(2,1,0).shape"
   ]
  },
  {
   "cell_type": "code",
   "execution_count": null,
   "metadata": {},
   "outputs": [],
   "source": [
    "from generate_trajectories import generate_data"
   ]
  },
  {
   "cell_type": "code",
   "execution_count": null,
   "metadata": {},
   "outputs": [],
   "source": [
    "import minigrid_rl_starter.utils as utils\n",
    "# Load environment\n",
    "\n",
    "env = utils.make_env(\"MiniGrid-SimpleCrossingS11N5-v0\", 0)\n",
    "for _ in range(0):\n",
    "    env.reset()\n",
    "env_copy = utils.make_env(\"MiniGrid-SimpleCrossingS11N5-v0\", 0)\n",
    "for _ in range(0):\n",
    "    env_copy.reset()\n",
    "print(\"Environment loaded\\n\")\n",
    "\n",
    "# Load agent\n",
    "\n",
    "trained_model_dir = utils.get_model_dir(\"CrossingS11N5_A2C_Fullgrid\", storage_dir=\"minigrid_rl_starter\")\n",
    "exploratory_model_dir = utils.get_model_dir(\"CrossingS11N5_A2C_state_bonus_fullgrid\", storage_dir=\"minigrid_rl_starter\")\n",
    "\n",
    "trained_agent = utils.Agent(\n",
    "    env.observation_space,\n",
    "    env.action_space,\n",
    "    trained_model_dir,\n",
    "    argmax=True,\n",
    "    use_memory=False,\n",
    "    use_text=False,\n",
    ")\n",
    "print(\"Trained agent loaded\\n\")\n",
    "\n",
    "exploratory_agent = utils.Agent(\n",
    "    env.observation_space,\n",
    "    env.action_space,\n",
    "    exploratory_model_dir,\n",
    "    argmax=True,\n",
    "    use_memory=False,\n",
    "    use_text=False,\n",
    ")\n",
    "print(\"Exploratory agent loaded\\n\")"
   ]
  },
  {
   "cell_type": "code",
   "execution_count": null,
   "metadata": {},
   "outputs": [],
   "source": [
    "train_dataset = generate_data(env=env, agent=trained_agent, episodes=5, render=False)"
   ]
  },
  {
   "cell_type": "code",
   "execution_count": null,
   "metadata": {},
   "outputs": [],
   "source": [
    "query_dataset = generate_data(env=env_copy, agent=exploratory_agent, episodes=5, render=False)"
   ]
  },
  {
   "cell_type": "code",
   "execution_count": null,
   "metadata": {},
   "outputs": [],
   "source": [
    "query_trajectories = T.Tensor(\n",
    "            np.array(\n",
    "                [\n",
    "                    query_dataset[episode][step][\"obs\"][\"partial_pixels\"]\n",
    "                    for episode in range(len(query_dataset))\n",
    "                    for step in range(len(query_dataset[episode]))\n",
    "                ]\n",
    "            )\n",
    "        )\n",
    "query_targets = T.tensor(\n",
    "            np.array(\n",
    "                [\n",
    "                    episode\n",
    "                    for episode in range(len(query_dataset))\n",
    "                    for step in range(len(query_dataset[episode]))\n",
    "                ]\n",
    "            )\n",
    "        )\n",
    "indices = T.randperm(query_trajectories.shape[0])[: 5]\n",
    "query_observations = query_trajectories[indices]\n",
    "query_targets = query_targets[indices]"
   ]
  },
  {
   "cell_type": "code",
   "execution_count": null,
   "metadata": {},
   "outputs": [],
   "source": [
    "for i in range(query_observations.shape[0]):\n",
    "    plt.imshow(query_observations[i].permute(1,2,0)/255.0)\n",
    "    plt.show()"
   ]
  },
  {
   "cell_type": "code",
   "execution_count": null,
   "metadata": {},
   "outputs": [],
   "source": [
    "query_targets"
   ]
  },
  {
   "cell_type": "code",
   "execution_count": null,
   "metadata": {},
   "outputs": [],
   "source": [
    "T.randperm(4)"
   ]
  },
  {
   "cell_type": "code",
   "execution_count": null,
   "metadata": {},
   "outputs": [],
   "source": [
    "query_environments = T.Tensor(\n",
    "            np.array(\n",
    "                [\n",
    "                    query_dataset[episode][step][\"obs\"][\"pixels\"]\n",
    "                    for episode in range(len(query_dataset))\n",
    "                    for step in range(len(query_dataset[episode]))\n",
    "                ]\n",
    "            )\n",
    "        )\n",
    "query_environments = query_environments[indices]"
   ]
  },
  {
   "cell_type": "code",
   "execution_count": null,
   "metadata": {},
   "outputs": [],
   "source": [
    "for i in range(query_environments.shape[0]):\n",
    "    plt.imshow(query_environments[i].permute(1,2,0)/255.0)\n",
    "    plt.show()"
   ]
  },
  {
   "cell_type": "code",
   "execution_count": null,
   "metadata": {},
   "outputs": [],
   "source": [
    "train_directions=T.Tensor(np.array(\n",
    "                [\n",
    "                    train_dataset[episode][step][\"direction\"]\n",
    "                    for episode in range(len(train_dataset))\n",
    "                    for step in range(len(train_dataset[episode]))\n",
    "                ]\n",
    " )).to(T.int64)\n",
    "\n",
    "query_directions=T.Tensor(np.array(\n",
    "                [\n",
    "                    query_dataset[episode][step][\"direction\"]\n",
    "                    for episode in range(len(query_dataset))\n",
    "                    for step in range(len(query_dataset[episode]))\n",
    "                ]\n",
    " )).to(T.int64)"
   ]
  },
  {
   "cell_type": "code",
   "execution_count": null,
   "metadata": {},
   "outputs": [],
   "source": [
    "query_environments_resampled=F.interpolate(query_environments, size=(56, 56))\n",
    "query_environments_resampled=query_environments_resampled[:,:,2::5,2::5]\n",
    "print(query_environments_resampled.shape)\n",
    "plt.imshow(query_environments_resampled[0].permute(1,2,0)/255.0)"
   ]
  },
  {
   "cell_type": "code",
   "execution_count": null,
   "metadata": {},
   "outputs": [],
   "source": [
    "import torchvision.transforms as transforms\n",
    "resize_cropper = transforms.RandomResizedCrop(size=(352,352))\n",
    "cropped_environments = resize_cropper(query_environments.unsqueeze(0))\n",
    "plt.imshow(resize_cropper(cropped_environments[1]).permute(1,2,0)/255.0)\n",
    "print(query_environments.shape)"
   ]
  },
  {
   "cell_type": "code",
   "execution_count": null,
   "metadata": {},
   "outputs": [],
   "source": [
    "directions = T.Tensor(\n",
    "    np.array(\n",
    "        [\n",
    "            query_dataset[episode][step][\"direction\"]\n",
    "            for episode in range(len(query_dataset))\n",
    "            for step in range(len(query_dataset[episode]))\n",
    "        ]\n",
    "    )\n",
    ").to(T.int64)"
   ]
  },
  {
   "cell_type": "code",
   "execution_count": null,
   "metadata": {},
   "outputs": [],
   "source": [
    "indices = T.randperm(directions.shape[0])[:5]\n",
    "directions[directions!=directions[indices]]"
   ]
  },
  {
   "cell_type": "code",
   "execution_count": null,
   "metadata": {},
   "outputs": [],
   "source": [
    "from process_trajectories import data_to_tensors, sample_views"
   ]
  },
  {
   "cell_type": "code",
   "execution_count": null,
   "metadata": {},
   "outputs": [],
   "source": [
    "train_trajectory=data_to_tensors(train_dataset)"
   ]
  },
  {
   "cell_type": "code",
   "execution_count": null,
   "metadata": {},
   "outputs": [],
   "source": [
    "indices, query_views= sample_views(train_trajectory,5)"
   ]
  },
  {
   "cell_type": "code",
   "execution_count": null,
   "metadata": {},
   "outputs": [],
   "source": [
    "count=0\n",
    "for view in query_views['observations']:\n",
    "    for i in range(len(train_trajectory['observations'])):\n",
    "        if T.allclose(train_trajectory['observations'][i],view):\n",
    "            count+=1\n",
    "print(count)\n",
    "print(len(train_trajectory['observations']))"
   ]
  },
  {
   "cell_type": "code",
   "execution_count": null,
   "metadata": {},
   "outputs": [],
   "source": [
    "for i in range(500,569):\n",
    "    plt.imshow(train_trajectory['observations'][i].transpose(2,0)/255.0)\n",
    "    plt.show()"
   ]
  },
  {
   "cell_type": "code",
   "execution_count": null,
   "metadata": {},
   "outputs": [],
   "source": [
    "plt.imshow(query_views['observations'][0].transpose(2,0)/255.0)"
   ]
  },
  {
   "cell_type": "code",
   "execution_count": null,
   "metadata": {},
   "outputs": [],
   "source": [
    "T.allclose(query_views['observations'][0], train_trajectory['observations'][366])"
   ]
  },
  {
   "cell_type": "code",
   "execution_count": null,
   "metadata": {},
   "outputs": [],
   "source": [
    "support_obs = T.Tensor(np.array(\n",
    "                [\n",
    "                    train_dataset[episode][step][\"obs\"][\"partial_pixels\"] \n",
    "                    for episode in range(len(train_dataset)) \n",
    "                    for step in range(len(train_dataset[episode])) if step%5!=0\n",
    "                ]\n",
    "            )\n",
    "        )"
   ]
  },
  {
   "cell_type": "code",
   "execution_count": null,
   "metadata": {},
   "outputs": [],
   "source": [
    "support_obs.shape"
   ]
  },
  {
   "cell_type": "code",
   "execution_count": null,
   "metadata": {},
   "outputs": [],
   "source": [
    "query_idx = np.array([i for i in range(len(support_obs)) if i%5==0])"
   ]
  },
  {
   "cell_type": "code",
   "execution_count": null,
   "metadata": {},
   "outputs": [],
   "source": [
    "support_idx = np.array([i for i in range(len(support_obs)) if i%5!=0])"
   ]
  },
  {
   "cell_type": "code",
   "execution_count": null,
   "metadata": {},
   "outputs": [],
   "source": [
    "len(support_idx)"
   ]
  },
  {
   "cell_type": "code",
   "execution_count": null,
   "metadata": {},
   "outputs": [],
   "source": [
    "len(query_idx)"
   ]
  },
  {
   "cell_type": "code",
   "execution_count": null,
   "metadata": {},
   "outputs": [],
   "source": [
    "indices = T.randperm(support_obs.shape[0])[:5]\n",
    "indices"
   ]
  },
  {
   "cell_type": "code",
   "execution_count": null,
   "metadata": {},
   "outputs": [],
   "source": [
    "remaining_indices = T.tensor([i for i in range(support_obs.shape[0]) if i not in indices])"
   ]
  },
  {
   "cell_type": "code",
   "execution_count": null,
   "metadata": {},
   "outputs": [],
   "source": [
    "len(remaining_indices)"
   ]
  },
  {
   "cell_type": "code",
   "execution_count": null,
   "metadata": {},
   "outputs": [],
   "source": [
    "query_views, support_trajectories = sample_views(train_trajectory,100)"
   ]
  },
  {
   "cell_type": "code",
   "execution_count": null,
   "metadata": {},
   "outputs": [],
   "source": [
    "query_views['observations'].shape"
   ]
  },
  {
   "cell_type": "code",
   "execution_count": null,
   "metadata": {},
   "outputs": [],
   "source": [
    "for i in range(query_views['observations'].shape[0]):\n",
    "    for j in range(support_trajectories['observations'].shape[0]):\n",
    "        if T.allclose(query_views['observations'][i], support_trajectories['observations'][j]):\n",
    "            print('ok')"
   ]
  },
  {
   "cell_type": "code",
   "execution_count": null,
   "metadata": {},
   "outputs": [],
   "source": [
    "import minigrid_rl_starter.utils as utils\n",
    "# Load environment\n",
    "\n",
    "env = utils.make_env(\"MiniGrid-SimpleCrossingS11N5-v0\", 0)\n",
    "for _ in range(0):\n",
    "    env.reset()\n",
    "env_copy = utils.make_env(\"MiniGrid-SimpleCrossingS11N5-v0\", 0)\n",
    "for _ in range(0):\n",
    "    env_copy.reset()\n",
    "print(\"Environment loaded\\n\")\n",
    "\n",
    "# Load agent\n",
    "\n",
    "trained_model_dir = utils.get_model_dir(\"CrossingS11N5_A2C_fullgrid_navigation\", storage_dir=\"minigrid_rl_starter\")\n",
    "exploratory_model_dir = utils.get_model_dir(\"CrossingS11N5_A2C_fullgrid_navigation_state_bonus\", storage_dir=\"minigrid_rl_starter\")\n",
    "\n",
    "trained_agent = utils.Agent(\n",
    "    env.observation_space,\n",
    "    env.action_space,\n",
    "    trained_model_dir,\n",
    "    argmax=True,\n",
    "    use_memory=False,\n",
    "    use_text=False,\n",
    ")\n",
    "print(\"Trained agent loaded\\n\")\n",
    "\n",
    "exploratory_agent = utils.Agent(\n",
    "    env.observation_space,\n",
    "    env.action_space,\n",
    "    exploratory_model_dir,\n",
    "    argmax=True,\n",
    "    use_memory=False,\n",
    "    use_text=False,\n",
    ")\n",
    "print(\"Exploratory agent loaded\\n\")"
   ]
  },
  {
   "cell_type": "code",
   "execution_count": null,
   "metadata": {},
   "outputs": [],
   "source": [
    "train_dataset = generate_data(env=env, agent=trained_agent, episodes=5, render=False)"
   ]
  },
  {
   "cell_type": "code",
   "execution_count": null,
   "metadata": {},
   "outputs": [],
   "source": [
    "query_dataset = generate_data(env=env_copy, agent=exploratory_agent, episodes=5, render=False)"
   ]
  },
  {
   "cell_type": "code",
   "execution_count": null,
   "metadata": {},
   "outputs": [],
   "source": [
    "plt.imshow(query_dataset[0][14]['obs']['pixels'].transpose(1,2,0))"
   ]
  },
  {
   "cell_type": "code",
   "execution_count": null,
   "metadata": {},
   "outputs": [],
   "source": [
    "query_dataset[0][14]['direction']"
   ]
  },
  {
   "cell_type": "code",
   "execution_count": null,
   "metadata": {},
   "outputs": [],
   "source": [
    "import torch.nn.functional as F\n",
    "F.one_hot(T.Tensor([2]).to(T.int64),4)"
   ]
  },
  {
   "cell_type": "code",
   "execution_count": null,
   "metadata": {},
   "outputs": [],
   "source": [
    "query_trajectories = data_to_tensors(query_dataset)"
   ]
  },
  {
   "cell_type": "code",
   "execution_count": null,
   "metadata": {},
   "outputs": [],
   "source": [
    "print(query_dataset[0][4]['direction'])\n",
    "plt.imshow(query_dataset[0][4]['obs']['pixels'].transpose(1,2,0)/255.0)"
   ]
  },
  {
   "cell_type": "code",
   "execution_count": null,
   "metadata": {},
   "outputs": [],
   "source": [
    "plt.imshow(orientated_trajectories['observations'][4].permute(1,2,0)/255.0)\n",
    "plt.show()\n",
    "plt.imshow(T.rot90(query_trajectories['observations'][4], 2, [1,2]).permute(1,2,0)/255.0)"
   ]
  },
  {
   "cell_type": "code",
   "execution_count": null,
   "metadata": {},
   "outputs": [],
   "source": [
    "def orientate_observations(trajectories):\n",
    "    for i in range(len(trajectories['directions'])):\n",
    "        if trajectories['directions'][i][0]==1:\n",
    "            trajectories['observations'][i] = T.rot90(trajectories['observations'][i], -1, [1,2])\n",
    "        elif trajectories['directions'][i][1]==1:\n",
    "            trajectories['observations'][i] = T.rot90(trajectories['observations'][i], 2, [1,2])\n",
    "        elif trajectories['directions'][i][2]==1:\n",
    "            trajectories['observations'][i] = T.rot90(trajectories['observations'][i], 1, [1,2])\n",
    "        elif trajectories['directions'][i][3]==1:\n",
    "            pass\n",
    "    return trajectories"
   ]
  },
  {
   "cell_type": "code",
   "execution_count": null,
   "metadata": {},
   "outputs": [],
   "source": [
    "orientated_trajectories = orientate_observations(query_trajectories)"
   ]
  },
  {
   "cell_type": "code",
   "execution_count": null,
   "metadata": {},
   "outputs": [],
   "source": [
    "orientated_trajectories['observations'][3]"
   ]
  },
  {
   "cell_type": "code",
   "execution_count": null,
   "metadata": {},
   "outputs": [],
   "source": [
    "env = utils.make_env(\"MiniGrid-SimpleCrossingS11N5-v0\", 0)\n",
    "for _ in range(0):\n",
    "    env.reset()\n",
    "env_copy = utils.make_env(\"MiniGrid-SimpleCrossingS11N5-v0\", 0)\n",
    "for _ in range(0):\n",
    "    env_copy.reset()\n",
    "print(\"Environment loaded\\n\")"
   ]
  },
  {
   "cell_type": "code",
   "execution_count": null,
   "metadata": {},
   "outputs": [],
   "source": [
    "plt.imshow(env.render(\"rgb_array\"))"
   ]
  },
  {
   "cell_type": "code",
   "execution_count": null,
   "metadata": {},
   "outputs": [],
   "source": [
    "plt.imshow(env_copy.render(\"rgb_array\"))"
   ]
  },
  {
   "cell_type": "code",
   "execution_count": null,
   "metadata": {},
   "outputs": [],
   "source": [
    "env = utils.make_env(\"MiniGrid-SimpleCrossingS11N5-v0\", 0)\n",
    "env.reset()"
   ]
  },
  {
   "cell_type": "code",
   "execution_count": null,
   "metadata": {},
   "outputs": [],
   "source": [
    "env = utils.make_env(\"MiniGrid-SimpleCrossingS11N5-v0\", 1)\n",
    "env_copy = utils.make_env(\"MiniGrid-SimpleCrossingS11N5-v0\", 1)\n",
    "env_copy.reset()\n",
    "env.reset()\n",
    "np.allclose(env.reset()['image'], env_copy.reset()['image'])"
   ]
  },
  {
   "cell_type": "code",
   "execution_count": null,
   "metadata": {},
   "outputs": [],
   "source": [
    "env.reset()"
   ]
  },
  {
   "cell_type": "code",
   "execution_count": null,
   "metadata": {},
   "outputs": [],
   "source": [
    "import wandb\n",
    "api = wandb.Api()\n",
    "\n",
    "run_exp = api.run(\"adamjelley/gen-con-rl/2on3lyxa\")\n",
    "run_sin= api.run(\"adamjelley/gen-con-rl/tkclcaor\")\n",
    "\n",
    "run_exp.config = run_sin.config\n",
    "run_exp.config[\"exploratory_agent\"] = \"CrossingS11N5_A2C_fullgrid_navigation_state_bonus\"\n",
    "run_exp.update()"
   ]
  },
  {
   "cell_type": "code",
   "execution_count": null,
   "metadata": {},
   "outputs": [],
   "source": [
    "import torch as T\n",
    "def euclidian_distances(prototypes, embeddings):\n",
    "    distances = T.sum(\n",
    "        (prototypes.unsqueeze(2) - embeddings.unsqueeze(1)) ** 2, dim=-1\n",
    "    )\n",
    "    return distances"
   ]
  },
  {
   "cell_type": "code",
   "execution_count": null,
   "metadata": {},
   "outputs": [],
   "source": [
    "proto=T.rand(1,10,128)\n",
    "embeddings=T.rand(1,100,128)\n",
    "euclidian_distances(proto, embeddings).shape"
   ]
  },
  {
   "cell_type": "code",
   "execution_count": null,
   "metadata": {},
   "outputs": [],
   "source": [
    "import wandb\n",
    "import torch as T\n",
    "import os\n",
    "model_path = os.path.join()\n",
    "checkpoint = T.load(f\"/Users/ajelley/Projects/gen-con-rl/saved_models/GCM_Location_Direction_Exploratory_de09eko4/checkpoint.pt\"\n",
    ")"
   ]
  },
  {
   "cell_type": "code",
   "execution_count": null,
   "metadata": {},
   "outputs": [],
   "source": [
    "wandb.restore(\"checkpoint.pt\", run_path='adamjelley/gen-con-rl/de09eko4').name\n",
    "T.load('/Users/ajelley/Projects/gen-con-rl/checkpoint.pt')"
   ]
  },
  {
   "cell_type": "code",
   "execution_count": null,
   "metadata": {},
   "outputs": [],
   "source": [
    "api = wandb.Api()\n",
    "run_path = 'adamjelley/gen-con-rl/de09eko4'\n",
    "run_id = run_path.split('/')[-1]\n",
    "run=api.run(run_path)\n",
    "checkpoint=run.file(\"checkpoint.pt\").download(root=f'./wandb/saved_checkpoints/{run_id}')"
   ]
  },
  {
   "cell_type": "code",
   "execution_count": null,
   "metadata": {},
   "outputs": [],
   "source": [
    "run_path = 'adamjelley/gen-con-rl/de09eko4'\n",
    "run_id = run_path.split('/')[-1]\n",
    "model_save_path = f'./wandb/saved_checkpoints/{run_id}/checkpoint.pt'\n",
    "if os.path.exists(model_save_path):\n",
    "    checkpoint = T.load(model_save_path)\n",
    "else:\n",
    "    api = wandb.Api()\n",
    "    run=api.run(run_path)\n",
    "    checkpoint=run.file(\"checkpoint.pt\").download(root=f'./wandb/saved_checkpoints/{run_id}')\n",
    "checkpoint['learner_state_dict']"
   ]
  },
  {
   "cell_type": "code",
   "execution_count": null,
   "metadata": {},
   "outputs": [],
   "source": [
    "shape = (3, 32, 32)\n",
    "T.prod(shape)"
   ]
  },
  {
   "cell_type": "code",
   "execution_count": null,
   "metadata": {},
   "outputs": [],
   "source": [
    "plt.imshow(query_environments[i].permute(1,2,0)/255.0)"
   ]
  }
 ],
 "metadata": {
  "interpreter": {
   "hash": "407fba1dd3f6801fead4b464d3163e1be3a8d5b5e2e638470326225b57d08f25"
  },
  "kernelspec": {
   "display_name": "Python 3.9.10 ('gen-con-rl')",
   "language": "python",
   "name": "python3"
  },
  "language_info": {
   "codemirror_mode": {
    "name": "ipython",
    "version": 3
   },
   "file_extension": ".py",
   "mimetype": "text/x-python",
   "name": "python",
   "nbconvert_exporter": "python",
   "pygments_lexer": "ipython3",
   "version": "3.9.10"
  },
  "orig_nbformat": 4
 },
 "nbformat": 4,
 "nbformat_minor": 2
}
