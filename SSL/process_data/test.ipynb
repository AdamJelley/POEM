{
 "cells": [
  {
   "cell_type": "code",
   "execution_count": 6,
   "metadata": {},
   "outputs": [
    {
     "name": "stdout",
     "output_type": "stream",
     "text": [
      "The autoreload extension is already loaded. To reload it, use:\n",
      "  %reload_ext autoreload\n"
     ]
    }
   ],
   "source": [
    "%load_ext autoreload\n",
    "%autoreload 2"
   ]
  },
  {
   "cell_type": "code",
   "execution_count": 10,
   "metadata": {},
   "outputs": [],
   "source": [
    "import torch as T\n",
    "import dataset_loader, observation_generators\n",
    "\n",
    "\n",
    "\n",
    "dataloader = dataset_loader.CIFAR10Loader()\n",
    "trainset, testset, classes = dataloader.load_data(data_path=\"../data\")\n",
    "\n",
    "observation_generator = observation_generators.CropTrajectoryGenerator(batch_size=32,\n",
    "    image_shape=dataloader.image_shape, trajectory_length=4\n",
    ")\n",
    "\n",
    "trainiterator = dataloader.load_batches(\n",
    "    dataset=trainset, batch_size=32, shuffle=True\n",
    ")\n",
    "\n",
    "images, labels = next(trainiterator)\n",
    "coordinates=observation_generator.generate_crop_coordinates()"
   ]
  },
  {
   "cell_type": "code",
   "execution_count": 16,
   "metadata": {},
   "outputs": [],
   "source": [
    "((xmin, ymin), (xmax, ymax))=coordinates"
   ]
  },
  {
   "cell_type": "code",
   "execution_count": 15,
   "metadata": {},
   "outputs": [],
   "source": [
    "repeated_images=images.unsqueeze(1).repeat(1,4,1,1,1)"
   ]
  },
  {
   "cell_type": "code",
   "execution_count": 17,
   "metadata": {},
   "outputs": [
    {
     "ename": "TypeError",
     "evalue": "only integer scalar arrays can be converted to a scalar index",
     "output_type": "error",
     "traceback": [
      "\u001b[0;31m---------------------------------------------------------------------------\u001b[0m",
      "\u001b[0;31mTypeError\u001b[0m                                 Traceback (most recent call last)",
      "\u001b[1;32m/Users/ajelley/Projects/gen-con-rl/SSL/process_data/test.ipynb Cell 5\u001b[0m in \u001b[0;36m<cell line: 1>\u001b[0;34m()\u001b[0m\n\u001b[0;32m----> <a href='vscode-notebook-cell:/Users/ajelley/Projects/gen-con-rl/SSL/process_data/test.ipynb#ch0000004?line=0'>1</a>\u001b[0m repeated_images[:,:,:,xmin:xmax, ymin:ymax]\n",
      "\u001b[0;31mTypeError\u001b[0m: only integer scalar arrays can be converted to a scalar index"
     ]
    }
   ],
   "source": [
    "repeated_images[:,:,:,xmin:xmax, ymin:ymax]"
   ]
  },
  {
   "cell_type": "code",
   "execution_count": 20,
   "metadata": {},
   "outputs": [
    {
     "name": "stdout",
     "output_type": "stream",
     "text": [
      "tensor([[0.8169, 0.2173, 0.0512, 0.6521, 0.6638],\n",
      "        [0.7129, 0.0706, 0.5217, 0.9697, 0.7668]])\n"
     ]
    }
   ],
   "source": [
    "a=T.rand(2,5)\n",
    "print(a)"
   ]
  },
  {
   "cell_type": "code",
   "execution_count": 21,
   "metadata": {},
   "outputs": [
    {
     "data": {
      "text/plain": [
       "tensor(0.9697)"
      ]
     },
     "execution_count": 21,
     "metadata": {},
     "output_type": "execute_result"
    }
   ],
   "source": [
    "a[1,3]"
   ]
  },
  {
   "cell_type": "code",
   "execution_count": 24,
   "metadata": {},
   "outputs": [],
   "source": [
    "a=T.zeros((4,3,2))\n",
    "a[1,2]=T.tensor([3,4])"
   ]
  },
  {
   "cell_type": "code",
   "execution_count": null,
   "metadata": {},
   "outputs": [],
   "source": []
  }
 ],
 "metadata": {
  "kernelspec": {
   "display_name": "Python 3.9.10 ('gen-con-rl')",
   "language": "python",
   "name": "python3"
  },
  "language_info": {
   "codemirror_mode": {
    "name": "ipython",
    "version": 3
   },
   "file_extension": ".py",
   "mimetype": "text/x-python",
   "name": "python",
   "nbconvert_exporter": "python",
   "pygments_lexer": "ipython3",
   "version": "3.9.10"
  },
  "orig_nbformat": 4,
  "vscode": {
   "interpreter": {
    "hash": "407fba1dd3f6801fead4b464d3163e1be3a8d5b5e2e638470326225b57d08f25"
   }
  }
 },
 "nbformat": 4,
 "nbformat_minor": 2
}
