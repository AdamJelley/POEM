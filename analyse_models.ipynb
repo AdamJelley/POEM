{
 "cells": [
  {
   "cell_type": "code",
   "execution_count": 1,
   "metadata": {},
   "outputs": [],
   "source": [
    "%load_ext autoreload\n",
    "%autoreload 2"
   ]
  },
  {
   "cell_type": "code",
   "execution_count": 2,
   "metadata": {},
   "outputs": [],
   "source": [
    "import numpy as np\n",
    "import torch as T\n",
    "import torch.nn.functional as F\n",
    "import torch.optim as optim\n",
    "import torchvision\n",
    "import matplotlib.pyplot as plt"
   ]
  },
  {
   "cell_type": "code",
   "execution_count": 3,
   "metadata": {},
   "outputs": [
    {
     "ename": "ImportError",
     "evalue": "cannot import name 'complete_observation_data_to_tensors' from 'process_trajectories' (/disk/scratch1/adamjelley/gen-con-rl/process_trajectories.py)",
     "output_type": "error",
     "traceback": [
      "\u001b[0;31m---------------------------------------------------------------------------\u001b[0m",
      "\u001b[0;31mImportError\u001b[0m                               Traceback (most recent call last)",
      "\u001b[1;32m/disk/scratch1/adamjelley/gen-con-rl/analyse_models.ipynb Cell 3\u001b[0m in \u001b[0;36m<cell line: 3>\u001b[0;34m()\u001b[0m\n\u001b[1;32m      <a href='vscode-notebook-cell://ssh-remote%2Bedwards.inf.ed.ac.uk/disk/scratch1/adamjelley/gen-con-rl/analyse_models.ipynb#W2sdnNjb2RlLXJlbW90ZQ%3D%3D?line=0'>1</a>\u001b[0m \u001b[39mfrom\u001b[39;00m \u001b[39mgenerative_contrastive_modelling\u001b[39;00m\u001b[39m.\u001b[39;00m\u001b[39mgcm\u001b[39;00m \u001b[39mimport\u001b[39;00m GenerativeContrastiveModelling\n\u001b[1;32m      <a href='vscode-notebook-cell://ssh-remote%2Bedwards.inf.ed.ac.uk/disk/scratch1/adamjelley/gen-con-rl/analyse_models.ipynb#W2sdnNjb2RlLXJlbW90ZQ%3D%3D?line=1'>2</a>\u001b[0m \u001b[39mfrom\u001b[39;00m \u001b[39mgenerate_trajectories\u001b[39;00m \u001b[39mimport\u001b[39;00m generate_data\n\u001b[0;32m----> <a href='vscode-notebook-cell://ssh-remote%2Bedwards.inf.ed.ac.uk/disk/scratch1/adamjelley/gen-con-rl/analyse_models.ipynb#W2sdnNjb2RlLXJlbW90ZQ%3D%3D?line=2'>3</a>\u001b[0m \u001b[39mfrom\u001b[39;00m \u001b[39mprocess_trajectories\u001b[39;00m \u001b[39mimport\u001b[39;00m data_to_tensors, complete_observation_data_to_tensors\n",
      "\u001b[0;31mImportError\u001b[0m: cannot import name 'complete_observation_data_to_tensors' from 'process_trajectories' (/disk/scratch1/adamjelley/gen-con-rl/process_trajectories.py)"
     ]
    }
   ],
   "source": [
    "from generative_contrastive_modelling.gcm import GenerativeContrastiveModelling\n",
    "from generate_trajectories import generate_data\n",
    "from process_trajectories import data_to_tensors, complete_observation_data_to_tensors"
   ]
  },
  {
   "cell_type": "code",
   "execution_count": null,
   "metadata": {},
   "outputs": [],
   "source": [
    "learner = GenerativeContrastiveModelling(\n",
    "            (3, 56, 56),\n",
    "            128,\n",
    "            128,\n",
    "            True,\n",
    "            True,\n",
    "        )"
   ]
  },
  {
   "cell_type": "code",
   "execution_count": null,
   "metadata": {},
   "outputs": [],
   "source": [
    "learner.encoder.load_checkpoint('/Users/ajelley/Projects/gen-con-rl/wandb/run-20220705_164807-2on3lyxa/files')"
   ]
  },
  {
   "cell_type": "code",
   "execution_count": null,
   "metadata": {},
   "outputs": [],
   "source": [
    "import minigrid_rl_starter.utils as utils\n",
    "# Load environment\n",
    "\n",
    "env = utils.make_env(\"MiniGrid-SimpleCrossingS11N5-v0\", 0)\n",
    "for _ in range(0):\n",
    "    env.reset()\n",
    "env_copy = utils.make_env(\"MiniGrid-SimpleCrossingS11N5-v0\", 0)\n",
    "for _ in range(0):\n",
    "    env_copy.reset()\n",
    "print(\"Environment loaded\\n\")\n",
    "\n",
    "# Load agent\n",
    "\n",
    "trained_model_dir = utils.get_model_dir(\"CrossingS11N5_A2C_fullgrid_navigation\", storage_dir=\"minigrid_rl_starter\")\n",
    "exploratory_model_dir = utils.get_model_dir(\"CrossingS11N5_A2C_fullgrid_navigation_state_bonus\", storage_dir=\"minigrid_rl_starter\")\n",
    "\n",
    "trained_agent = utils.Agent(\n",
    "    env.observation_space,\n",
    "    env.action_space,\n",
    "    trained_model_dir,\n",
    "    argmax=True,\n",
    "    use_memory=False,\n",
    "    use_text=False,\n",
    ")\n",
    "print(\"Trained agent loaded\\n\")\n",
    "\n",
    "exploratory_agent = utils.Agent(\n",
    "    env.observation_space,\n",
    "    env.action_space,\n",
    "    exploratory_model_dir,\n",
    "    argmax=True,\n",
    "    use_memory=False,\n",
    "    use_text=False,\n",
    ")\n",
    "print(\"Exploratory agent loaded\\n\")"
   ]
  },
  {
   "cell_type": "code",
   "execution_count": null,
   "metadata": {},
   "outputs": [],
   "source": [
    "train_dataset = generate_data(env=env, agent=trained_agent, episodes=5, render=False)"
   ]
  },
  {
   "cell_type": "code",
   "execution_count": null,
   "metadata": {},
   "outputs": [],
   "source": [
    "train_trajectories = data_to_tensors(train_dataset)\n",
    "environments = F.interpolate(T.Tensor(\n",
    "            np.array([train_dataset[episode][0][\"obs\"][\"pixels\"] for episode in train_dataset])\n",
    "        ), size=32)"
   ]
  },
  {
   "cell_type": "code",
   "execution_count": null,
   "metadata": {},
   "outputs": [],
   "source": [
    "means, precisions = learner.encoder.forward(train_trajectories['observations'], train_trajectories['locations'], train_trajectories['directions'])"
   ]
  },
  {
   "cell_type": "code",
   "execution_count": null,
   "metadata": {},
   "outputs": [],
   "source": [
    "means[:21].shape"
   ]
  },
  {
   "cell_type": "code",
   "execution_count": null,
   "metadata": {},
   "outputs": [],
   "source": [
    "plt.imshow(means[train_trajectories['targets']==3].detach().numpy())"
   ]
  },
  {
   "cell_type": "code",
   "execution_count": null,
   "metadata": {},
   "outputs": [],
   "source": [
    "len(train_trajectories['targets'][train_trajectories['targets']==1])"
   ]
  },
  {
   "cell_type": "code",
   "execution_count": null,
   "metadata": {},
   "outputs": [],
   "source": [
    "T.argmax(precisions[22])"
   ]
  },
  {
   "cell_type": "code",
   "execution_count": null,
   "metadata": {},
   "outputs": [],
   "source": [
    "plt.imshow(environments[2].permute(1,2,0)/255.0)"
   ]
  },
  {
   "cell_type": "code",
   "execution_count": null,
   "metadata": {},
   "outputs": [],
   "source": [
    "plt.imshow(environments[0].permute(1,2,0)/255.0)"
   ]
  },
  {
   "cell_type": "code",
   "execution_count": null,
   "metadata": {},
   "outputs": [],
   "source": [
    "from generative_contrastive_modelling.environment_decoder import EnvironmentDecoder"
   ]
  },
  {
   "cell_type": "code",
   "execution_count": null,
   "metadata": {},
   "outputs": [],
   "source": [
    "decoder = EnvironmentDecoder(128, 128, (3,32,32))\n",
    "decoder_optimizer = optim.Adam(decoder.parameters(), lr=0.001)"
   ]
  },
  {
   "cell_type": "code",
   "execution_count": null,
   "metadata": {},
   "outputs": [],
   "source": [
    "decoder.forward(means, precisions).shape"
   ]
  },
  {
   "cell_type": "code",
   "execution_count": null,
   "metadata": {},
   "outputs": [],
   "source": [
    "for episode in range(10000):\n",
    "    train_dataset = generate_data(env=env, agent=trained_agent, episodes=5, render=False)\n",
    "    train_trajectories = data_to_tensors(train_dataset)\n",
    "    environments = F.interpolate(T.Tensor(\n",
    "                np.array([train_dataset[episode][0][\"obs\"][\"pixels\"] for episode in train_dataset])\n",
    "            ), size=32)/255.0\n",
    "\n",
    "    means, precisions = learner.encoder.forward(train_trajectories['observations'], train_trajectories['locations'], train_trajectories['directions'])\n",
    "    means=means.unsqueeze(0).detach()\n",
    "    precisions=precisions.unsqueeze(0).detach()\n",
    "    (env_proto_means,\n",
    "    env_proto_precisions,\n",
    "    log_env_proto_normalisation,\n",
    "    ) = learner.inner_gaussian_product(\n",
    "        means, precisions, train_trajectories['targets'].unsqueeze(0)\n",
    "        )\n",
    "\n",
    "    env_reconstructions = decoder.forward(env_proto_means.squeeze(), env_proto_precisions.squeeze())\n",
    "    reconstruction_loss = F.mse_loss(env_reconstructions, environments)\n",
    "\n",
    "    decoder_optimizer.zero_grad()\n",
    "    reconstruction_loss.backward()\n",
    "    decoder_optimizer.step()\n",
    "\n",
    "    if episode%10==0:\n",
    "        print(f'Episode: {episode}, \\tLoss: {reconstruction_loss}')\n",
    "        plt.imshow(torchvision.utils.make_grid(environments).permute(1,2,0))\n",
    "        plt.show()\n",
    "        plt.imshow(torchvision.utils.make_grid(env_reconstructions).permute(1,2,0))\n",
    "        plt.show()"
   ]
  },
  {
   "cell_type": "code",
   "execution_count": null,
   "metadata": {},
   "outputs": [],
   "source": [
    "for episode in range(1000):\n",
    "    train_dataset = generate_data(env=env, agent=trained_agent, episodes=5, render=False)\n",
    "    train_trajectories = data_to_tensors(train_dataset)\n",
    "    environments = F.interpolate(T.Tensor(\n",
    "                np.array([train_dataset[episode][step][\"obs\"][\"partial_pixels\"] for episode in train_dataset for step in train_dataset[episode]])\n",
    "            ), size=32)/255.0\n",
    "\n",
    "    means, precisions = learner.encoder.forward(train_trajectories['observations'], train_trajectories['locations'], train_trajectories['directions'])\n",
    "    means=means.unsqueeze(0).detach()\n",
    "    precisions=precisions.unsqueeze(0).detach()\n",
    "    # (env_proto_means,\n",
    "    # env_proto_precisions,\n",
    "    # log_env_proto_normalisation,\n",
    "    # ) = learner.inner_gaussian_product(\n",
    "    #     means, precisions, train_trajectories['targets'].unsqueeze(0)\n",
    "    #     )\n",
    "\n",
    "    env_reconstructions = decoder.forward(means.squeeze(), precisions.squeeze())\n",
    "    reconstruction_loss = F.mse_loss(env_reconstructions, environments)\n",
    "\n",
    "    decoder_optimizer.zero_grad()\n",
    "    reconstruction_loss.backward()\n",
    "    decoder_optimizer.step()\n",
    "\n",
    "    if episode%10==0:\n",
    "        print(f'Episode: {episode}, \\tLoss: {reconstruction_loss}')\n",
    "        plt.imshow(torchvision.utils.make_grid(environments[:5]).permute(1,2,0))\n",
    "        plt.show()\n",
    "        plt.imshow(torchvision.utils.make_grid(env_reconstructions[:5]).permute(1,2,0))\n",
    "        plt.show()"
   ]
  },
  {
   "cell_type": "code",
   "execution_count": null,
   "metadata": {},
   "outputs": [],
   "source": [
    "import copy\n",
    "initial_decoder = copy.deepcopy(decoder)"
   ]
  },
  {
   "cell_type": "code",
   "execution_count": null,
   "metadata": {},
   "outputs": [],
   "source": [
    "T.ones(4,100)[:,-6:].shape"
   ]
  },
  {
   "cell_type": "code",
   "execution_count": null,
   "metadata": {},
   "outputs": [],
   "source": []
  },
  {
   "cell_type": "code",
   "execution_count": 5,
   "metadata": {},
   "outputs": [],
   "source": [
    "from generative_contrastive_modelling.unsupervised_gcm import UnsupervisedGenerativeContrastiveModelling\n",
    "learner = UnsupervisedGenerativeContrastiveModelling(\n",
    "            input_shape=(3, 56, 56),\n",
    "            hid_dim=128,\n",
    "            z_dim=128\n",
    "            prior_precision=0.01,\n",
    "            use_location=F\n",
    "            use_direction=config.use_direction,\n",
    "            use_coordinates=False,\n",
    "        )"
   ]
  },
  {
   "cell_type": "code",
   "execution_count": null,
   "metadata": {},
   "outputs": [],
   "source": [
    "precisions = np.logspace(-5, 5, 50)\n",
    "log_likelihoods = []"
   ]
  }
 ],
 "metadata": {
  "kernelspec": {
   "display_name": "Python 3.9.13 ('gen-con-rl')",
   "language": "python",
   "name": "python3"
  },
  "language_info": {
   "codemirror_mode": {
    "name": "ipython",
    "version": 3
   },
   "file_extension": ".py",
   "mimetype": "text/x-python",
   "name": "python",
   "nbconvert_exporter": "python",
   "pygments_lexer": "ipython3",
   "version": "3.9.13"
  },
  "vscode": {
   "interpreter": {
    "hash": "2a1f147744105889fac41a67aa6bbeb69424d817e5c7ade432bc6fd64534b961"
   }
  }
 },
 "nbformat": 4,
 "nbformat_minor": 2
}
